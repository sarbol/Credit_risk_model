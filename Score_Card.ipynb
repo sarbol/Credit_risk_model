{
 "cells": [
  {
   "cell_type": "code",
   "execution_count": 603,
   "metadata": {},
   "outputs": [],
   "source": [
    "#import libraries for analysis\n",
    "import numpy as np\n",
    "import pandas as pd\n",
    "import matplotlib.pyplot as plt\n",
    "import seaborn as sns\n",
    "from IPython.display import display, HTML\n",
    "sns.set()"
   ]
  },
  {
   "cell_type": "code",
   "execution_count": 604,
   "metadata": {},
   "outputs": [],
   "source": [
    "df_train = pd.read_csv('cs-training.csv')\n",
    "df_test = pd.read_csv('cs-test.csv')"
   ]
  },
  {
   "cell_type": "code",
   "execution_count": 605,
   "metadata": {},
   "outputs": [],
   "source": [
    "df_train.drop(df_train.columns.tolist()[0], axis = 1, inplace = True)\n",
    "df_test.drop('Unnamed: 0', axis = 1, inplace = True)"
   ]
  },
  {
   "cell_type": "code",
   "execution_count": 606,
   "metadata": {},
   "outputs": [],
   "source": [
    "features = df_train.columns.to_list()"
   ]
  },
  {
   "cell_type": "code",
   "execution_count": 607,
   "metadata": {},
   "outputs": [],
   "source": [
    "#REPLACE MISSING VALUES WITH THE MEAN OF THE FEATURE\n",
    "df_train['MonthlyIncome'].fillna(np.mean(df_train['MonthlyIncome']), inplace = True)\n",
    "df_train['NumberOfDependents'].fillna(df_train['NumberOfDependents'].value_counts().argmax(), inplace = True)\n",
    "df_test['MonthlyIncome'].fillna(np.mean(df_test['MonthlyIncome']), inplace = True)\n",
    "df_test['NumberOfDependents'].fillna(df_test['NumberOfDependents'].value_counts().argmax(), inplace = True)"
   ]
  },
  {
   "cell_type": "code",
   "execution_count": 608,
   "metadata": {},
   "outputs": [],
   "source": [
    "def woe(data, feature, target, bins=10):\n",
    "    \n",
    "    \n",
    "    #Run WOE and IV on all the independent variables\n",
    "    if (data[feature].dtype.kind in 'bifc') and (len(np.unique(data[feature]))>10):\n",
    "        binned_x = pd.qcut(data[feature], bins,  duplicates='drop')\n",
    "        d0 = pd.DataFrame({'x': binned_x, 'y': data[target]})\n",
    "    else:\n",
    "        d0 = pd.DataFrame({'x': data[feature], 'y': data[target]})\n",
    "    d = d0.groupby(\"x\", as_index=False).agg({\"y\": [\"count\", \"sum\"]})\n",
    "    d.columns = ['Cutoff', 'N', 'Events']\n",
    "    d['% of Events'] = np.maximum(d['Events'], 0.5) / d['Events'].sum()\n",
    "    d['Non-Events'] = d['N'] - d['Events']\n",
    "    d['% of Non-Events'] = np.maximum(d['Non-Events'], 0.5) / d['Non-Events'].sum()\n",
    "    d['WoE'] = np.log(d['% of Non-Events']/d['% of Events'])\n",
    "    d['IV'] = d['WoE'] * (d['% of Non-Events'] - d['% of Events'])\n",
    "    d.insert(loc=0, column='Variable', value=feature)\n",
    "    return d"
   ]
  },
  {
   "cell_type": "code",
   "execution_count": 609,
   "metadata": {},
   "outputs": [],
   "source": [
    "def woe_x(data, feature, target, bins):\n",
    "    binned_x = pd.cut(data[feature], bins = bins, precision = 0, right = True)\n",
    "    d0 = pd.DataFrame({'x': binned_x, 'y': data[target]})\n",
    "    d = d0.groupby(\"x\", as_index=False).agg({\"y\": [\"count\", \"sum\"]})\n",
    "    d.columns = ['Cutoff', 'N', 'Events']\n",
    "    d['% of Events'] = np.maximum(d['Events'], 0.5) / d['Events'].sum()\n",
    "    d['Non-Events'] = d['N'] - d['Events']\n",
    "    d['% of Non-Events'] = np.maximum(d['Non-Events'], 0.5) / d['Non-Events'].sum()\n",
    "    d['WoE'] = np.log(d['% of Non-Events']/d['% of Events'])\n",
    "    d['IV'] = d['WoE'] * (d['% of Non-Events'] - d['% of Events'])\n",
    "    d.insert(loc=0, column='Variable', value=feature)\n",
    "    return d"
   ]
  },
  {
   "cell_type": "code",
   "execution_count": 610,
   "metadata": {},
   "outputs": [],
   "source": [
    "woe_1 = woe(df_train, features[1], features[0], 10)\n",
    "woe_2 = woe(df_train, features[2], features[0], 10)\n",
    "woe_3 = woe_x(df_train, features[3], features[0], pd.IntervalIndex.from_tuples([(-0.001, 0), (0.1, 1), (1, 2), (2, 3), (3, 5), (5, 9), (9, 13),(13, 96),(96, 98)]))\n",
    "woe_4 = woe(df_train, features[4], features[0], 10)\n",
    "woe_5 = woe(df_train, features[5], features[0], 10)\n",
    "woe_6 = woe(df_train, features[6], features[0], 10)\n",
    "woe_7 = woe_x(df_train, features[7], features[0], pd.IntervalIndex.from_tuples([(-0.001, 0), (0.1, 2), (2, 5), (5, 9), (9, 17), (17, 96), (96, 98)]))\n",
    "woe_8 = woe_x(df_train, features[8], features[0], pd.IntervalIndex.from_tuples([(-0.001, 0), (0, 1), (1, 2), (2, 4), (4, 7), (7, 9), (9, 12), (12, 54)]))\n",
    "woe_9 = woe_x(df_train, features[9], features[0], pd.IntervalIndex.from_tuples([(-0.001, 0), (0, 1), (1, 2), (2, 4), (4, 6), (6, 9), (9, 12), (12, 96),(96, 99)]))\n",
    "woe_10 = woe_x(df_train, features[10], features[0], pd.IntervalIndex.from_tuples([(-0.001, 0), (0, 2), (2, 3), (3, 4), (4, 5), (5, 8), (8, 43)]))"
   ]
  },
  {
   "cell_type": "code",
   "execution_count": 611,
   "metadata": {},
   "outputs": [],
   "source": [
    "var = features[1:]"
   ]
  },
  {
   "cell_type": "code",
   "execution_count": 612,
   "metadata": {},
   "outputs": [],
   "source": [
    "df_bins = pd.DataFrame()\n",
    "df_bins[var[0]] = woe_1['Cutoff']\n",
    "df_bins[var[1]] = woe_2['Cutoff']\n",
    "df_bins[var[2]] = woe_3['Cutoff']\n",
    "df_bins[var[3]] = woe_4['Cutoff']\n",
    "df_bins[var[4]] = woe_5['Cutoff']\n",
    "df_bins[var[5]] = woe_6['Cutoff']\n",
    "df_bins[var[6]] = woe_7['Cutoff']\n",
    "df_bins[var[7]] = woe_8['Cutoff']\n",
    "df_bins[var[8]] = woe_9['Cutoff']\n",
    "df_bins[var[9]] = woe_10['Cutoff']\n",
    "df_bins[var[2]].fillna(df_bins[var[2]][8], inplace = True)\n",
    "df_bins[var[4]].fillna(df_bins[var[4]][8], inplace = True)\n",
    "df_bins[var[6]].fillna(df_bins[var[6]][6], inplace = True)\n",
    "df_bins[var[7]].fillna(df_bins[var[7]][7], inplace = True)\n",
    "df_bins[var[8]].fillna(df_bins[var[8]][8], inplace = True)\n",
    "df_bins[var[9]].fillna(df_bins[var[9]][6], inplace = True)"
   ]
  },
  {
   "cell_type": "code",
   "execution_count": 613,
   "metadata": {},
   "outputs": [],
   "source": [
    "df_woe = pd.DataFrame()\n",
    "df_woe[var[0]] = woe_1['WoE']\n",
    "df_woe[var[1]] = woe_2['WoE']\n",
    "df_woe[var[2]] = woe_3['WoE']\n",
    "df_woe[var[3]] = woe_4['WoE']\n",
    "df_woe[var[4]] = woe_5['WoE']\n",
    "df_woe[var[5]] = woe_6['WoE']\n",
    "df_woe[var[6]] = woe_7['WoE']\n",
    "df_woe[var[7]] = woe_8['WoE']\n",
    "df_woe[var[8]] = woe_9['WoE']\n",
    "df_woe[var[9]] = woe_10['WoE']"
   ]
  },
  {
   "cell_type": "code",
   "execution_count": 614,
   "metadata": {},
   "outputs": [],
   "source": [
    "from sklearn.linear_model import LogisticRegression\n",
    "clf = LogisticRegression(max_iter = 1000)"
   ]
  },
  {
   "cell_type": "code",
   "execution_count": 615,
   "metadata": {},
   "outputs": [
    {
     "data": {
      "text/plain": [
       "LogisticRegression(C=1.0, class_weight=None, dual=False, fit_intercept=True,\n",
       "                   intercept_scaling=1, l1_ratio=None, max_iter=1000,\n",
       "                   multi_class='auto', n_jobs=None, penalty='l2',\n",
       "                   random_state=None, solver='lbfgs', tol=0.0001, verbose=0,\n",
       "                   warm_start=False)"
      ]
     },
     "execution_count": 615,
     "metadata": {},
     "output_type": "execute_result"
    }
   ],
   "source": [
    "clf.fit(np.array(df_train.iloc[:, 1:]), np.array(df_train.iloc[:, 0]))"
   ]
  },
  {
   "cell_type": "code",
   "execution_count": 616,
   "metadata": {},
   "outputs": [],
   "source": [
    "coef = clf.coef_[0]"
   ]
  },
  {
   "cell_type": "code",
   "execution_count": 617,
   "metadata": {},
   "outputs": [],
   "source": [
    "intercept = clf.intercept_[0]"
   ]
  },
  {
   "cell_type": "code",
   "execution_count": 618,
   "metadata": {},
   "outputs": [
    {
     "name": "stdout",
     "output_type": "stream",
     "text": [
      "factor: 28.85 | offset 487.12\n"
     ]
    }
   ],
   "source": [
    "factor = 20/np.log(2)\n",
    "offset = 600 - factor * np.log(50)\n",
    "print('factor:', round(factor, 2),'| offset', round(offset, 2))"
   ]
  },
  {
   "cell_type": "code",
   "execution_count": 619,
   "metadata": {},
   "outputs": [],
   "source": [
    "def score(data, feature, groups, woe, coef, intercept, factor, offset):\n",
    "    score = list()\n",
    "    for element, pos in zip(data, range(len(data))):\n",
    "        for bins in groups[feature[pos]]:\n",
    "            if element not in bins:\n",
    "                continue\n",
    "            else:\n",
    "                x = groups[feature[pos]].to_list().index(bins)\n",
    "                weight = woe[feature[pos]][x]\n",
    "                score.append((coef[pos] * weight + intercept/len(coef)) * factor + offset/len(coef))\n",
    "    return sum(score)"
   ]
  },
  {
   "cell_type": "code",
   "execution_count": 620,
   "metadata": {},
   "outputs": [
    {
     "data": {
      "text/plain": [
       "475.84873440906875"
      ]
     },
     "execution_count": 620,
     "metadata": {},
     "output_type": "execute_result"
    }
   ],
   "source": [
    "info = df_test.iloc[80, 1:].to_list()\n",
    "score(info, var, df_bins, df_woe, coef, intercept, factor, offset)"
   ]
  },
  {
   "cell_type": "code",
   "execution_count": 602,
   "metadata": {},
   "outputs": [
    {
     "data": {
      "text/plain": [
       "[0.085647252, 47.0, 0.0, 577.0, 6855.0355896805895, 9.0, 0.0, 0.0, 0.0, 0.0]"
      ]
     },
     "execution_count": 602,
     "metadata": {},
     "output_type": "execute_result"
    }
   ],
   "source": [
    "info"
   ]
  },
  {
   "cell_type": "code",
   "execution_count": null,
   "metadata": {},
   "outputs": [],
   "source": []
  },
  {
   "cell_type": "code",
   "execution_count": 544,
   "metadata": {},
   "outputs": [],
   "source": [
    "def score(data, feature, position, groups, woe, coef, intercept, factor, offset):\n",
    "    weight = list()\n",
    "    x = data.columns.to_list()[1:].index(feature)\n",
    "    for bins in groups[feature]:\n",
    "        if data[feature][position] not in bins:\n",
    "            continue\n",
    "        else:\n",
    "            pos = groups[feature].to_list().index(bins)\n",
    "            weight.append(woe[feature][pos])\n",
    "    score = (coef[x] * weight[0] + intercept/len(coef)) * factor + offset/len(coef)\n",
    "    return score"
   ]
  },
  {
   "cell_type": "code",
   "execution_count": 549,
   "metadata": {},
   "outputs": [
    {
     "data": {
      "text/plain": [
       "47.28870671702511"
      ]
     },
     "execution_count": 549,
     "metadata": {},
     "output_type": "execute_result"
    }
   ],
   "source": [
    "score(df_test, var[9], 0, df_bins, df_woe, coef, intercept, factor, offset)"
   ]
  },
  {
   "cell_type": "code",
   "execution_count": 550,
   "metadata": {},
   "outputs": [
    {
     "data": {
      "text/plain": [
       "[47.00828179255837,\n",
       " 47.25963136600174,\n",
       " 55.140154434369485,\n",
       " 47.00972462037358,\n",
       " 47.00948262866533,\n",
       " 46.96014833685812,\n",
       " 52.703734347789116,\n",
       " 46.75346159775704,\n",
       " 38.71540856767086,\n",
       " 47.28870671702511]"
      ]
     },
     "execution_count": 550,
     "metadata": {},
     "output_type": "execute_result"
    }
   ],
   "source": [
    "lst = list()\n",
    "for feature in var:\n",
    "    lst.append(score(df_test, feature, 80, df_bins, df_woe, coef, intercept, factor, offset))\n",
    "lst"
   ]
  },
  {
   "cell_type": "code",
   "execution_count": 623,
   "metadata": {},
   "outputs": [
    {
     "data": {
      "text/plain": [
       "SeriousDlqin2yrs                                NaN\n",
       "RevolvingUtilizationOfUnsecuredLines       0.463295\n",
       "age                                       57.000000\n",
       "NumberOfTime30-59DaysPastDueNotWorse       0.000000\n",
       "DebtRatio                                  0.527237\n",
       "MonthlyIncome                           9141.000000\n",
       "NumberOfOpenCreditLinesAndLoans           15.000000\n",
       "NumberOfTimes90DaysLate                    0.000000\n",
       "NumberRealEstateLoansOrLines               4.000000\n",
       "NumberOfTime60-89DaysPastDueNotWorse       0.000000\n",
       "NumberOfDependents                         2.000000\n",
       "Name: 1, dtype: float64"
      ]
     },
     "execution_count": 623,
     "metadata": {},
     "output_type": "execute_result"
    }
   ],
   "source": [
    "df_test.iloc[1,:]"
   ]
  },
  {
   "cell_type": "code",
   "execution_count": null,
   "metadata": {},
   "outputs": [],
   "source": [
    "[0.046, 57.0, 0.0, 0.527, 9141.0, 15.0, 0.0, 4.0, 0.0, 2.0]"
   ]
  },
  {
   "cell_type": "code",
   "execution_count": null,
   "metadata": {},
   "outputs": [],
   "source": []
  },
  {
   "cell_type": "code",
   "execution_count": null,
   "metadata": {},
   "outputs": [],
   "source": []
  },
  {
   "cell_type": "code",
   "execution_count": null,
   "metadata": {},
   "outputs": [],
   "source": []
  }
 ],
 "metadata": {
  "kernelspec": {
   "display_name": "Python 3",
   "language": "python",
   "name": "python3"
  },
  "language_info": {
   "codemirror_mode": {
    "name": "ipython",
    "version": 3
   },
   "file_extension": ".py",
   "mimetype": "text/x-python",
   "name": "python",
   "nbconvert_exporter": "python",
   "pygments_lexer": "ipython3",
   "version": "3.7.6"
  }
 },
 "nbformat": 4,
 "nbformat_minor": 4
}
