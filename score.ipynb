{
 "cells": [
  {
   "cell_type": "code",
   "execution_count": 4,
   "metadata": {},
   "outputs": [],
   "source": [
    "def model(data):\n",
    "    import numpy as np\n",
    "    import pandas as pd\n",
    "    df_train = pd.read_csv('cs-training.csv')\n",
    "    df_test = pd.read_csv('cs-test.csv')\n",
    "    df_train.drop(df_train.columns.tolist()[0], axis = 1, inplace = True)\n",
    "    df_test.drop('Unnamed: 0', axis = 1, inplace = True)\n",
    "    features = df_train.columns.to_list()\n",
    "    \n",
    "    #REPLACE MISSING VALUES WITH THE MEAN OF THE FEATURE\n",
    "    df_train['MonthlyIncome'].fillna(np.mean(df_train['MonthlyIncome']), inplace = True)\n",
    "    df_train['NumberOfDependents'].fillna(df_train['NumberOfDependents'].value_counts().argmax(), inplace = True)\n",
    "    df_test['MonthlyIncome'].fillna(np.mean(df_test['MonthlyIncome']), inplace = True)\n",
    "    df_test['NumberOfDependents'].fillna(df_test['NumberOfDependents'].value_counts().argmax(), inplace = True)\n",
    "\n",
    "\n",
    "    def woe(data, feature, target, bins=10):\n",
    "        \n",
    "        \n",
    "        #Run WOE and IV on all the independent variables\n",
    "        if (data[feature].dtype.kind in 'bifc') and (len(np.unique(data[feature]))>10):\n",
    "            binned_x = pd.qcut(data[feature], bins,  duplicates='drop')\n",
    "            d0 = pd.DataFrame({'x': binned_x, 'y': data[target]})\n",
    "        else:\n",
    "            d0 = pd.DataFrame({'x': data[feature], 'y': data[target]})\n",
    "        d = d0.groupby(\"x\", as_index=False).agg({\"y\": [\"count\", \"sum\"]})\n",
    "        d.columns = ['Cutoff', 'N', 'Events']\n",
    "        d['% of Events'] = np.maximum(d['Events'], 0.5) / d['Events'].sum()\n",
    "        d['Non-Events'] = d['N'] - d['Events']\n",
    "        d['% of Non-Events'] = np.maximum(d['Non-Events'], 0.5) / d['Non-Events'].sum()\n",
    "        d['WoE'] = np.log(d['% of Non-Events']/d['% of Events'])\n",
    "        d['IV'] = d['WoE'] * (d['% of Non-Events'] - d['% of Events'])\n",
    "        d.insert(loc=0, column='Variable', value=feature)\n",
    "        return d\n",
    "\n",
    "\n",
    "    def woe_x(data, feature, target, bins):\n",
    "        binned_x = pd.cut(data[feature], bins = bins, precision = 0, right = True)\n",
    "        d0 = pd.DataFrame({'x': binned_x, 'y': data[target]})\n",
    "        d = d0.groupby(\"x\", as_index=False).agg({\"y\": [\"count\", \"sum\"]})\n",
    "        d.columns = ['Cutoff', 'N', 'Events']\n",
    "        d['% of Events'] = np.maximum(d['Events'], 0.5) / d['Events'].sum()\n",
    "        d['Non-Events'] = d['N'] - d['Events']\n",
    "        d['% of Non-Events'] = np.maximum(d['Non-Events'], 0.5) / d['Non-Events'].sum()\n",
    "        d['WoE'] = np.log(d['% of Non-Events']/d['% of Events'])\n",
    "        d['IV'] = d['WoE'] * (d['% of Non-Events'] - d['% of Events'])\n",
    "        d.insert(loc=0, column='Variable', value=feature)\n",
    "        return d\n",
    "\n",
    "\n",
    "    woe_1 = woe(df_train, features[1], features[0], 10)\n",
    "    woe_2 = woe(df_train, features[2], features[0], 10)\n",
    "    woe_3 = woe_x(df_train, features[3], features[0], pd.IntervalIndex.from_tuples([(-0.001, 0), (0.1, 1), (1, 2), (2, 3), (3, 5), (5, 9), (9, 13),(13, 96),(96, 98)]))\n",
    "    woe_4 = woe(df_train, features[4], features[0], 10)\n",
    "    woe_5 = woe(df_train, features[5], features[0], 10)\n",
    "    woe_6 = woe(df_train, features[6], features[0], 10)\n",
    "    woe_7 = woe_x(df_train, features[7], features[0], pd.IntervalIndex.from_tuples([(-0.001, 0), (0.1, 2), (2, 5), (5, 9), (9, 17), (17, 96), (96, 98)]))\n",
    "    woe_8 = woe_x(df_train, features[8], features[0], pd.IntervalIndex.from_tuples([(-0.001, 0), (0, 1), (1, 2), (2, 4), (4, 7), (7, 9), (9, 12), (12, 54)]))\n",
    "    woe_9 = woe_x(df_train, features[9], features[0], pd.IntervalIndex.from_tuples([(-0.001, 0), (0, 1), (1, 2), (2, 4), (4, 6), (6, 9), (9, 12), (12, 96),(96, 99)]))\n",
    "    woe_10 = woe_x(df_train, features[10], features[0], pd.IntervalIndex.from_tuples([(-0.001, 0), (0, 2), (2, 3), (3, 4), (4, 5), (5, 8), (8, 43)]))\n",
    "    \n",
    "    var = features[1:]\n",
    "    \n",
    "    \n",
    "    df_bins = pd.DataFrame()\n",
    "    df_bins[var[0]] = woe_1['Cutoff']\n",
    "    df_bins[var[1]] = woe_2['Cutoff']\n",
    "    df_bins[var[2]] = woe_3['Cutoff']\n",
    "    df_bins[var[3]] = woe_4['Cutoff']\n",
    "    df_bins[var[4]] = woe_5['Cutoff']\n",
    "    df_bins[var[5]] = woe_6['Cutoff']\n",
    "    df_bins[var[6]] = woe_7['Cutoff']\n",
    "    df_bins[var[7]] = woe_8['Cutoff']\n",
    "    df_bins[var[8]] = woe_9['Cutoff']\n",
    "    df_bins[var[9]] = woe_10['Cutoff']\n",
    "    df_bins[var[2]].fillna(df_bins[var[2]][8], inplace = True)\n",
    "    df_bins[var[4]].fillna(df_bins[var[4]][8], inplace = True)\n",
    "    df_bins[var[6]].fillna(df_bins[var[6]][6], inplace = True)\n",
    "    df_bins[var[7]].fillna(df_bins[var[7]][7], inplace = True)\n",
    "    df_bins[var[8]].fillna(df_bins[var[8]][8], inplace = True)\n",
    "    df_bins[var[9]].fillna(df_bins[var[9]][6], inplace = True)\n",
    "    \n",
    "    \n",
    "    df_woe = pd.DataFrame()\n",
    "    df_woe[var[0]] = woe_1['WoE']\n",
    "    df_woe[var[1]] = woe_2['WoE']\n",
    "    df_woe[var[2]] = woe_3['WoE']\n",
    "    df_woe[var[3]] = woe_4['WoE']\n",
    "    df_woe[var[4]] = woe_5['WoE']\n",
    "    df_woe[var[5]] = woe_6['WoE']\n",
    "    df_woe[var[6]] = woe_7['WoE']\n",
    "    df_woe[var[7]] = woe_8['WoE']\n",
    "    df_woe[var[8]] = woe_9['WoE']\n",
    "    df_woe[var[9]] = woe_10['WoE']\n",
    "\n",
    "\n",
    "    from sklearn.linear_model import LogisticRegression\n",
    "    clf = LogisticRegression(max_iter = 1000)\n",
    "\n",
    "    clf.fit(np.array(df_train.iloc[:, 1:]), np.array(df_train.iloc[:, 0]))\n",
    "\n",
    "    coef = clf.coef_[0]\n",
    "    intercept = clf.intercept_[0]\n",
    "\n",
    "\n",
    "    factor = 20/np.log(2)\n",
    "    offset = 600 - factor * np.log(50)\n",
    "\n",
    "\n",
    "\n",
    "    def score(data, feature, groups, woe, coef, intercept, factor, offset):\n",
    "        score = list()\n",
    "        for element, pos in zip(data, range(len(data))):\n",
    "            for bins in groups[feature[pos]]:\n",
    "                if element not in bins:\n",
    "                    continue\n",
    "                else:\n",
    "                    x = groups[feature[pos]].to_list().index(bins)\n",
    "                    weight = woe[feature[pos]][x]\n",
    "                    score.append((coef[pos] * weight + intercept/len(coef)) * factor + offset/len(coef))\n",
    "        return sum(score)\n",
    "\n",
    "    score = score(data, var, df_bins, df_woe, coef, intercept, factor, offset)\n",
    "    return score"
   ]
  },
  {
   "cell_type": "code",
   "execution_count": 5,
   "metadata": {},
   "outputs": [
    {
     "data": {
      "text/plain": [
       "475.84873440906875"
      ]
     },
     "execution_count": 5,
     "metadata": {},
     "output_type": "execute_result"
    }
   ],
   "source": [
    "info = \n",
    "model(info)"
   ]
  },
  {
   "cell_type": "code",
   "execution_count": null,
   "metadata": {},
   "outputs": [],
   "source": [
    "pickle.dump(model(data), open('model.pkl','wb'))\n",
    "\n",
    "model = pickle.load(open('model.pkl','rb'))\n",
    "\n",
    "print(model([0.085647252, 47.0, 0.0, 577.0, 6855.0355896805895, 9.0, 0.0, 0.0, 0.0, 0.0]))"
   ]
  },
  {
   "cell_type": "code",
   "execution_count": null,
   "metadata": {},
   "outputs": [],
   "source": [
    "outfile = open('pickled_score.pkl', 'wb')\n",
    "pickle.dump(model, outfile)\n",
    "outfile.close()\n",
    "\n",
    "\n",
    "infile = open('pickled_score.pkl', 'rb')\n",
    "model = pickle.load(infile)\n",
    "infile.close()\n",
    "\n",
    "info = [0.085647252, 47.0, 0.0, 577.0, 6855.0355896805895, 9.0, 0.0, 0.0, 0.0, 0.0]\n",
    "print(model(info))"
   ]
  },
  {
   "cell_type": "code",
   "execution_count": 7,
   "metadata": {},
   "outputs": [
    {
     "ename": "NameError",
     "evalue": "name 'df_test' is not defined",
     "output_type": "error",
     "traceback": [
      "\u001b[1;31m---------------------------------------------------------------------------\u001b[0m",
      "\u001b[1;31mNameError\u001b[0m                                 Traceback (most recent call last)",
      "\u001b[1;32m<ipython-input-7-2864a69a8e8a>\u001b[0m in \u001b[0;36m<module>\u001b[1;34m\u001b[0m\n\u001b[1;32m----> 1\u001b[1;33m \u001b[0mdf_test\u001b[0m\u001b[1;33m.\u001b[0m\u001b[0miloc\u001b[0m\u001b[1;33m[\u001b[0m\u001b[1;36m0\u001b[0m\u001b[1;33m,\u001b[0m \u001b[1;33m:\u001b[0m\u001b[1;33m]\u001b[0m\u001b[1;33m\u001b[0m\u001b[1;33m\u001b[0m\u001b[0m\n\u001b[0m",
      "\u001b[1;31mNameError\u001b[0m: name 'df_test' is not defined"
     ]
    }
   ],
   "source": [
    "df_test.iloc[0, :]"
   ]
  },
  {
   "cell_type": "code",
   "execution_count": null,
   "metadata": {},
   "outputs": [],
   "source": []
  }
 ],
 "metadata": {
  "kernelspec": {
   "display_name": "Python 3",
   "language": "python",
   "name": "python3"
  },
  "language_info": {
   "codemirror_mode": {
    "name": "ipython",
    "version": 3
   },
   "file_extension": ".py",
   "mimetype": "text/x-python",
   "name": "python",
   "nbconvert_exporter": "python",
   "pygments_lexer": "ipython3",
   "version": "3.7.6"
  }
 },
 "nbformat": 4,
 "nbformat_minor": 4
}
