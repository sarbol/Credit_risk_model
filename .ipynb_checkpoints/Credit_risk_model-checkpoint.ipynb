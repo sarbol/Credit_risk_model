{
 "cells": [
  {
   "cell_type": "code",
   "execution_count": 164,
   "metadata": {},
   "outputs": [],
   "source": [
    "#import libraries for analysis\n",
    "import numpy as np\n",
    "import pandas as pd\n",
    "import matplotlib.pyplot as plt\n",
    "import seaborn as sns\n",
    "from IPython.display import display, HTML\n",
    "sns.set()"
   ]
  },
  {
   "cell_type": "code",
   "execution_count": 165,
   "metadata": {},
   "outputs": [
    {
     "data": {
      "text/plain": [
       "Index(['SeriousDlqin2yrs', 'RevolvingUtilizationOfUnsecuredLines', 'age',\n",
       "       'NumberOfTime30-59DaysPastDueNotWorse', 'DebtRatio', 'MonthlyIncome',\n",
       "       'NumberOfOpenCreditLinesAndLoans', 'NumberOfTimes90DaysLate',\n",
       "       'NumberRealEstateLoansOrLines', 'NumberOfTime60-89DaysPastDueNotWorse',\n",
       "       'NumberOfDependents'],\n",
       "      dtype='object')"
      ]
     },
     "execution_count": 165,
     "metadata": {},
     "output_type": "execute_result"
    }
   ],
   "source": [
    "df_train = pd.read_csv('cs-training.csv')\n",
    "df_test = pd.read_csv('cs-test.csv')\n",
    "df_train.drop(df_train.columns.tolist()[0], axis = 1, inplace = True)\n",
    "df_test.drop('Unnamed: 0', axis = 1, inplace = True)\n",
    "var_train = df_train.columns\n",
    "var_test = df_test.columns\n",
    "var_test"
   ]
  },
  {
   "cell_type": "code",
   "execution_count": 166,
   "metadata": {},
   "outputs": [],
   "source": [
    "df_train['MonthlyIncome'].fillna(np.mean(df_train['MonthlyIncome']), inplace = True)\n",
    "df_train['NumberOfDependents'].fillna(df_train['NumberOfDependents'].value_counts().argmax(), inplace = True)"
   ]
  },
  {
   "cell_type": "code",
   "execution_count": null,
   "metadata": {},
   "outputs": [],
   "source": []
  },
  {
   "cell_type": "code",
   "execution_count": 167,
   "metadata": {},
   "outputs": [],
   "source": [
    "def woe(data, feature, target, bins=10):\n",
    "    \n",
    "    #Empty Dataframe\n",
    "    newDF,woeDF = pd.DataFrame(), pd.DataFrame()\n",
    "    \n",
    "    #Run WOE and IV on all the independent variables\n",
    "    if (data[feature].dtype.kind in 'bifc') and (len(np.unique(data[feature]))>10):\n",
    "        binned_x = pd.qcut(data[feature], bins,  duplicates='drop')\n",
    "        d0 = pd.DataFrame({'x': binned_x, 'y': data[target]})\n",
    "    else:\n",
    "        d0 = pd.DataFrame({'x': data[feature], 'y': data[target]})\n",
    "    d = d0.groupby(\"x\", as_index=False).agg({\"y\": [\"count\", \"sum\"]})\n",
    "    d.columns = ['Cutoff', 'N', 'Events']\n",
    "    d['% of Events'] = np.maximum(d['Events'], 0.5) / d['Events'].sum()\n",
    "    d['Non-Events'] = d['N'] - d['Events']\n",
    "    d['% of Non-Events'] = np.maximum(d['Non-Events'], 0.5) / d['Non-Events'].sum()\n",
    "    d['WoE'] = np.log(d['% of Events']/d['% of Non-Events'])\n",
    "    d['IV'] = d['WoE'] * (d['% of Events'] - d['% of Non-Events'])\n",
    "    d.insert(loc=0, column='Variable', value=feature)\n",
    "    return d"
   ]
  },
  {
   "cell_type": "code",
   "execution_count": 168,
   "metadata": {},
   "outputs": [],
   "source": [
    "# Function to create plots based on WoE. What we want to plot is the feature name on the x-axis and the WoE on the y-axis\n",
    "def plot_WoE(WoE_df, rotation=0):\n",
    "    \"\"\"\n",
    "    params:\n",
    "    Woe_df: A dataframe with Weight of Evidence calculated.\n",
    "    rotation: A rotation of the x_label axis to show plots cleanly. Default is horizontal = 0.\n",
    "    \n",
    "    return: Plot sheet wide weight of evidence\n",
    "    \"\"\"\n",
    "    x_axis = np.array(WoE_df.iloc[:,1].apply(str)) #make sure that the values in the category are strings. We use array because\n",
    "    # matplotlib doesnt work too well without data in array form.\n",
    "    y_axis = WoE_df['WoE']\n",
    "    plt.figure(figsize=(18, 6))\n",
    "    plt.plot(x_axis, y_axis, marker='o', linestyle='--', color='k')\n",
    "    plt.xlabel(WoE_df.columns[1])\n",
    "    plt.ylabel('Weight of Evidence')\n",
    "    plt.title(str('Weight of Evidence by ' + WoE_df.iloc[0,0]))\n",
    "    plt.xticks(rotation=rotation)"
   ]
  },
  {
   "cell_type": "markdown",
   "metadata": {},
   "source": [
    "# UNIVARIATE ANALYSIS AND FEATURE ENGINEERING"
   ]
  },
  {
   "cell_type": "code",
   "execution_count": 169,
   "metadata": {},
   "outputs": [],
   "source": [
    "def univariate_analysis(data, feature, rotation=0):\n",
    "\n",
    "    \"\"\" function returns \n",
    "      histogram, \n",
    "      box-plot, \n",
    "      5-point statistics as DataFrame   \n",
    "    \"\"\"\n",
    "    fig, ax = plt.subplots(figsize=(10,4), ncols=2, nrows=1)\n",
    "    sns.distplot(data[feature], kde=False, rug=True, ax=ax[0])\n",
    "    sns.boxplot(feature, orient='h', data=data, ax=ax[1])\n",
    "   \n",
    "    for ax in ax:\n",
    "        for tick in ax.get_xticklabels():\n",
    "            tick.set_rotation(rotation)\n",
    "            \n",
    "    return data[feature].describe().to_frame().T"
   ]
  },
  {
   "cell_type": "markdown",
   "metadata": {},
   "source": [
    "FEATURE 1: REVOLVING_UTILIZATION_OF_UNSECURED_LINES"
   ]
  },
  {
   "cell_type": "code",
   "execution_count": 170,
   "metadata": {},
   "outputs": [
    {
     "data": {
      "text/html": [
       "<div>\n",
       "<style scoped>\n",
       "    .dataframe tbody tr th:only-of-type {\n",
       "        vertical-align: middle;\n",
       "    }\n",
       "\n",
       "    .dataframe tbody tr th {\n",
       "        vertical-align: top;\n",
       "    }\n",
       "\n",
       "    .dataframe thead th {\n",
       "        text-align: right;\n",
       "    }\n",
       "</style>\n",
       "<table border=\"1\" class=\"dataframe\">\n",
       "  <thead>\n",
       "    <tr style=\"text-align: right;\">\n",
       "      <th></th>\n",
       "      <th>count</th>\n",
       "      <th>mean</th>\n",
       "      <th>std</th>\n",
       "      <th>min</th>\n",
       "      <th>25%</th>\n",
       "      <th>50%</th>\n",
       "      <th>75%</th>\n",
       "      <th>max</th>\n",
       "    </tr>\n",
       "  </thead>\n",
       "  <tbody>\n",
       "    <tr>\n",
       "      <th>RevolvingUtilizationOfUnsecuredLines</th>\n",
       "      <td>150000.0</td>\n",
       "      <td>6.048438</td>\n",
       "      <td>249.755371</td>\n",
       "      <td>0.0</td>\n",
       "      <td>0.029867</td>\n",
       "      <td>0.154181</td>\n",
       "      <td>0.559046</td>\n",
       "      <td>50708.0</td>\n",
       "    </tr>\n",
       "  </tbody>\n",
       "</table>\n",
       "</div>"
      ],
      "text/plain": [
       "                                         count      mean         std  min  \\\n",
       "RevolvingUtilizationOfUnsecuredLines  150000.0  6.048438  249.755371  0.0   \n",
       "\n",
       "                                           25%       50%       75%      max  \n",
       "RevolvingUtilizationOfUnsecuredLines  0.029867  0.154181  0.559046  50708.0  "
      ]
     },
     "execution_count": 170,
     "metadata": {},
     "output_type": "execute_result"
    },
    {
     "data": {
      "image/png": "[encoded data removed]",
      "text/plain": [
       "<Figure size 720x288 with 2 Axes>"
      ]
     },
     "metadata": {},
     "output_type": "display_data"
    }
   ],
   "source": [
    "univariate_analysis(df_train, var_train[1])"
   ]
  },
  {
   "cell_type": "code",
   "execution_count": 171,
   "metadata": {},
   "outputs": [
    {
     "data": {
      "text/html": [
       "<div>\n",
       "<style scoped>\n",
       "    .dataframe tbody tr th:only-of-type {\n",
       "        vertical-align: middle;\n",
       "    }\n",
       "\n",
       "    .dataframe tbody tr th {\n",
       "        vertical-align: top;\n",
       "    }\n",
       "\n",
       "    .dataframe thead th {\n",
       "        text-align: right;\n",
       "    }\n",
       "</style>\n",
       "<table border=\"1\" class=\"dataframe\">\n",
       "  <thead>\n",
       "    <tr style=\"text-align: right;\">\n",
       "      <th></th>\n",
       "      <th>count</th>\n",
       "      <th>mean</th>\n",
       "      <th>std</th>\n",
       "      <th>min</th>\n",
       "      <th>25%</th>\n",
       "      <th>50%</th>\n",
       "      <th>75%</th>\n",
       "      <th>max</th>\n",
       "    </tr>\n",
       "  </thead>\n",
       "  <tbody>\n",
       "    <tr>\n",
       "      <th>RevolvingUtilizationOfUnsecuredLines</th>\n",
       "      <td>101503.0</td>\n",
       "      <td>5.31</td>\n",
       "      <td>196.156039</td>\n",
       "      <td>0.0</td>\n",
       "      <td>0.030131</td>\n",
       "      <td>0.152586</td>\n",
       "      <td>0.564225</td>\n",
       "      <td>21821.0</td>\n",
       "    </tr>\n",
       "  </tbody>\n",
       "</table>\n",
       "</div>"
      ],
      "text/plain": [
       "                                         count  mean         std  min  \\\n",
       "RevolvingUtilizationOfUnsecuredLines  101503.0  5.31  196.156039  0.0   \n",
       "\n",
       "                                           25%       50%       75%      max  \n",
       "RevolvingUtilizationOfUnsecuredLines  0.030131  0.152586  0.564225  21821.0  "
      ]
     },
     "execution_count": 171,
     "metadata": {},
     "output_type": "execute_result"
    },
    {
     "data": {
      "image/png": "[encoded data removed]",
      "text/plain": [
       "<Figure size 720x288 with 2 Axes>"
      ]
     },
     "metadata": {},
     "output_type": "display_data"
    }
   ],
   "source": [
    "univariate_analysis(df_test, var_test[1])"
   ]
  },
  {
   "cell_type": "code",
   "execution_count": 172,
   "metadata": {},
   "outputs": [
    {
     "data": {
      "text/html": [
       "<div>\n",
       "<style scoped>\n",
       "    .dataframe tbody tr th:only-of-type {\n",
       "        vertical-align: middle;\n",
       "    }\n",
       "\n",
       "    .dataframe tbody tr th {\n",
       "        vertical-align: top;\n",
       "    }\n",
       "\n",
       "    .dataframe thead th {\n",
       "        text-align: right;\n",
       "    }\n",
       "</style>\n",
       "<table border=\"1\" class=\"dataframe\">\n",
       "  <thead>\n",
       "    <tr style=\"text-align: right;\">\n",
       "      <th></th>\n",
       "      <th>Variable</th>\n",
       "      <th>Cutoff</th>\n",
       "      <th>N</th>\n",
       "      <th>Events</th>\n",
       "      <th>% of Events</th>\n",
       "      <th>Non-Events</th>\n",
       "      <th>% of Non-Events</th>\n",
       "      <th>WoE</th>\n",
       "      <th>IV</th>\n",
       "    </tr>\n",
       "  </thead>\n",
       "  <tbody>\n",
       "    <tr>\n",
       "      <th>0</th>\n",
       "      <td>RevolvingUtilizationOfUnsecuredLines</td>\n",
       "      <td>(-0.001, 0.00297]</td>\n",
       "      <td>15000</td>\n",
       "      <td>378</td>\n",
       "      <td>0.037702</td>\n",
       "      <td>14622</td>\n",
       "      <td>0.104462</td>\n",
       "      <td>-1.019113</td>\n",
       "      <td>0.068036</td>\n",
       "    </tr>\n",
       "    <tr>\n",
       "      <th>1</th>\n",
       "      <td>RevolvingUtilizationOfUnsecuredLines</td>\n",
       "      <td>(0.00297, 0.0192]</td>\n",
       "      <td>15000</td>\n",
       "      <td>204</td>\n",
       "      <td>0.020347</td>\n",
       "      <td>14796</td>\n",
       "      <td>0.105705</td>\n",
       "      <td>-1.647717</td>\n",
       "      <td>0.140646</td>\n",
       "    </tr>\n",
       "    <tr>\n",
       "      <th>2</th>\n",
       "      <td>RevolvingUtilizationOfUnsecuredLines</td>\n",
       "      <td>(0.0192, 0.0435]</td>\n",
       "      <td>15000</td>\n",
       "      <td>210</td>\n",
       "      <td>0.020946</td>\n",
       "      <td>14790</td>\n",
       "      <td>0.105662</td>\n",
       "      <td>-1.618324</td>\n",
       "      <td>0.137099</td>\n",
       "    </tr>\n",
       "    <tr>\n",
       "      <th>3</th>\n",
       "      <td>RevolvingUtilizationOfUnsecuredLines</td>\n",
       "      <td>(0.0435, 0.0832]</td>\n",
       "      <td>15000</td>\n",
       "      <td>287</td>\n",
       "      <td>0.028626</td>\n",
       "      <td>14713</td>\n",
       "      <td>0.105112</td>\n",
       "      <td>-1.300730</td>\n",
       "      <td>0.099489</td>\n",
       "    </tr>\n",
       "    <tr>\n",
       "      <th>4</th>\n",
       "      <td>RevolvingUtilizationOfUnsecuredLines</td>\n",
       "      <td>(0.0832, 0.154]</td>\n",
       "      <td>15000</td>\n",
       "      <td>356</td>\n",
       "      <td>0.035508</td>\n",
       "      <td>14644</td>\n",
       "      <td>0.104619</td>\n",
       "      <td>-1.080580</td>\n",
       "      <td>0.074681</td>\n",
       "    </tr>\n",
       "    <tr>\n",
       "      <th>5</th>\n",
       "      <td>RevolvingUtilizationOfUnsecuredLines</td>\n",
       "      <td>(0.154, 0.271]</td>\n",
       "      <td>15000</td>\n",
       "      <td>521</td>\n",
       "      <td>0.051965</td>\n",
       "      <td>14479</td>\n",
       "      <td>0.103441</td>\n",
       "      <td>-0.688430</td>\n",
       "      <td>0.035437</td>\n",
       "    </tr>\n",
       "    <tr>\n",
       "      <th>6</th>\n",
       "      <td>RevolvingUtilizationOfUnsecuredLines</td>\n",
       "      <td>(0.271, 0.445]</td>\n",
       "      <td>15000</td>\n",
       "      <td>787</td>\n",
       "      <td>0.078496</td>\n",
       "      <td>14213</td>\n",
       "      <td>0.101540</td>\n",
       "      <td>-0.257409</td>\n",
       "      <td>0.005932</td>\n",
       "    </tr>\n",
       "    <tr>\n",
       "      <th>7</th>\n",
       "      <td>RevolvingUtilizationOfUnsecuredLines</td>\n",
       "      <td>(0.445, 0.699]</td>\n",
       "      <td>15000</td>\n",
       "      <td>1320</td>\n",
       "      <td>0.131658</td>\n",
       "      <td>13680</td>\n",
       "      <td>0.097732</td>\n",
       "      <td>0.297972</td>\n",
       "      <td>0.010109</td>\n",
       "    </tr>\n",
       "    <tr>\n",
       "      <th>8</th>\n",
       "      <td>RevolvingUtilizationOfUnsecuredLines</td>\n",
       "      <td>(0.699, 0.981]</td>\n",
       "      <td>15000</td>\n",
       "      <td>2488</td>\n",
       "      <td>0.248155</td>\n",
       "      <td>12512</td>\n",
       "      <td>0.089388</td>\n",
       "      <td>1.021066</td>\n",
       "      <td>0.162111</td>\n",
       "    </tr>\n",
       "    <tr>\n",
       "      <th>9</th>\n",
       "      <td>RevolvingUtilizationOfUnsecuredLines</td>\n",
       "      <td>(0.981, 50708.0]</td>\n",
       "      <td>15000</td>\n",
       "      <td>3475</td>\n",
       "      <td>0.346599</td>\n",
       "      <td>11525</td>\n",
       "      <td>0.082337</td>\n",
       "      <td>1.437351</td>\n",
       "      <td>0.379837</td>\n",
       "    </tr>\n",
       "  </tbody>\n",
       "</table>\n",
       "</div>"
      ],
      "text/plain": [
       "                               Variable             Cutoff      N  Events  \\\n",
       "0  RevolvingUtilizationOfUnsecuredLines  (-0.001, 0.00297]  15000     378   \n",
       "1  RevolvingUtilizationOfUnsecuredLines  (0.00297, 0.0192]  15000     204   \n",
       "2  RevolvingUtilizationOfUnsecuredLines   (0.0192, 0.0435]  15000     210   \n",
       "3  RevolvingUtilizationOfUnsecuredLines   (0.0435, 0.0832]  15000     287   \n",
       "4  RevolvingUtilizationOfUnsecuredLines    (0.0832, 0.154]  15000     356   \n",
       "5  RevolvingUtilizationOfUnsecuredLines     (0.154, 0.271]  15000     521   \n",
       "6  RevolvingUtilizationOfUnsecuredLines     (0.271, 0.445]  15000     787   \n",
       "7  RevolvingUtilizationOfUnsecuredLines     (0.445, 0.699]  15000    1320   \n",
       "8  RevolvingUtilizationOfUnsecuredLines     (0.699, 0.981]  15000    2488   \n",
       "9  RevolvingUtilizationOfUnsecuredLines   (0.981, 50708.0]  15000    3475   \n",
       "\n",
       "   % of Events  Non-Events  % of Non-Events       WoE        IV  \n",
       "0     0.037702       14622         0.104462 -1.019113  0.068036  \n",
       "1     0.020347       14796         0.105705 -1.647717  0.140646  \n",
       "2     0.020946       14790         0.105662 -1.618324  0.137099  \n",
       "3     0.028626       14713         0.105112 -1.300730  0.099489  \n",
       "4     0.035508       14644         0.104619 -1.080580  0.074681  \n",
       "5     0.051965       14479         0.103441 -0.688430  0.035437  \n",
       "6     0.078496       14213         0.101540 -0.257409  0.005932  \n",
       "7     0.131658       13680         0.097732  0.297972  0.010109  \n",
       "8     0.248155       12512         0.089388  1.021066  0.162111  \n",
       "9     0.346599       11525         0.082337  1.437351  0.379837  "
      ]
     },
     "execution_count": 172,
     "metadata": {},
     "output_type": "execute_result"
    }
   ],
   "source": [
    "revolving_woe = woe(df_train, var_train[1], var_train[0], 10)\n",
    "revolving_woe"
   ]
  },
  {
   "cell_type": "code",
   "execution_count": 173,
   "metadata": {},
   "outputs": [
    {
     "data": {
      "text/plain": [
       "1.1133782086858837"
      ]
     },
     "execution_count": 173,
     "metadata": {},
     "output_type": "execute_result"
    }
   ],
   "source": [
    "revolving_woe['IV'].sum()"
   ]
  },
  {
   "cell_type": "code",
   "execution_count": 174,
   "metadata": {},
   "outputs": [
    {
     "data": {
      "image/png": "[encoded data removed]",
      "text/plain": [
       "<Figure size 1296x432 with 1 Axes>"
      ]
     },
     "metadata": {},
     "output_type": "display_data"
    }
   ],
   "source": [
    "plot_WoE(revolving_woe)"
   ]
  },
  {
   "cell_type": "code",
   "execution_count": 186,
   "metadata": {},
   "outputs": [
    {
     "data": {
      "text/html": [
       "<div>\n",
       "<style scoped>\n",
       "    .dataframe tbody tr th:only-of-type {\n",
       "        vertical-align: middle;\n",
       "    }\n",
       "\n",
       "    .dataframe tbody tr th {\n",
       "        vertical-align: top;\n",
       "    }\n",
       "\n",
       "    .dataframe thead th {\n",
       "        text-align: right;\n",
       "    }\n",
       "</style>\n",
       "<table border=\"1\" class=\"dataframe\">\n",
       "  <thead>\n",
       "    <tr style=\"text-align: right;\">\n",
       "      <th></th>\n",
       "      <th>SeriousDlqin2yrs</th>\n",
       "      <th>RevolvingUtilizationOfUnsecuredLines</th>\n",
       "      <th>bins</th>\n",
       "    </tr>\n",
       "  </thead>\n",
       "  <tbody>\n",
       "    <tr>\n",
       "      <th>0</th>\n",
       "      <td>1</td>\n",
       "      <td>0.766127</td>\n",
       "      <td>(0.699, 0.981]</td>\n",
       "    </tr>\n",
       "    <tr>\n",
       "      <th>1</th>\n",
       "      <td>0</td>\n",
       "      <td>0.957151</td>\n",
       "      <td>(0.699, 0.981]</td>\n",
       "    </tr>\n",
       "    <tr>\n",
       "      <th>2</th>\n",
       "      <td>0</td>\n",
       "      <td>0.658180</td>\n",
       "      <td>(0.445, 0.699]</td>\n",
       "    </tr>\n",
       "    <tr>\n",
       "      <th>3</th>\n",
       "      <td>0</td>\n",
       "      <td>0.233810</td>\n",
       "      <td>(0.154, 0.271]</td>\n",
       "    </tr>\n",
       "    <tr>\n",
       "      <th>4</th>\n",
       "      <td>0</td>\n",
       "      <td>0.907239</td>\n",
       "      <td>(0.699, 0.981]</td>\n",
       "    </tr>\n",
       "  </tbody>\n",
       "</table>\n",
       "</div>"
      ],
      "text/plain": [
       "   SeriousDlqin2yrs  RevolvingUtilizationOfUnsecuredLines            bins\n",
       "0                 1                              0.766127  (0.699, 0.981]\n",
       "1                 0                              0.957151  (0.699, 0.981]\n",
       "2                 0                              0.658180  (0.445, 0.699]\n",
       "3                 0                              0.233810  (0.154, 0.271]\n",
       "4                 0                              0.907239  (0.699, 0.981]"
      ]
     },
     "execution_count": 186,
     "metadata": {},
     "output_type": "execute_result"
    }
   ],
   "source": [
    "df_revolving_train = df_train.copy()\n",
    "df_revolving_train = df_revolving_train.loc[:, [var_train[0], var_train[1]]]\n",
    "binned_x = pd.qcut(df_revolving_train[var_train[1]], 10,  duplicates='drop')\n",
    "df_revolving_train['bins'] = binned_x\n",
    "df_revolving_train.head()"
   ]
  },
  {
   "cell_type": "code",
   "execution_count": 187,
   "metadata": {},
   "outputs": [
    {
     "data": {
      "text/html": [
       "<div>\n",
       "<style scoped>\n",
       "    .dataframe tbody tr th:only-of-type {\n",
       "        vertical-align: middle;\n",
       "    }\n",
       "\n",
       "    .dataframe tbody tr th {\n",
       "        vertical-align: top;\n",
       "    }\n",
       "\n",
       "    .dataframe thead th {\n",
       "        text-align: right;\n",
       "    }\n",
       "</style>\n",
       "<table border=\"1\" class=\"dataframe\">\n",
       "  <thead>\n",
       "    <tr style=\"text-align: right;\">\n",
       "      <th></th>\n",
       "      <th>RevolvingUtilizationOfUnsecuredLines</th>\n",
       "      <th>bins</th>\n",
       "    </tr>\n",
       "  </thead>\n",
       "  <tbody>\n",
       "    <tr>\n",
       "      <th>0</th>\n",
       "      <td>0.885519</td>\n",
       "      <td>(0.699, 0.981]</td>\n",
       "    </tr>\n",
       "    <tr>\n",
       "      <th>1</th>\n",
       "      <td>0.463295</td>\n",
       "      <td>(0.445, 0.699]</td>\n",
       "    </tr>\n",
       "    <tr>\n",
       "      <th>2</th>\n",
       "      <td>0.043275</td>\n",
       "      <td>(0.0192, 0.0435]</td>\n",
       "    </tr>\n",
       "    <tr>\n",
       "      <th>3</th>\n",
       "      <td>0.280308</td>\n",
       "      <td>(0.271, 0.445]</td>\n",
       "    </tr>\n",
       "    <tr>\n",
       "      <th>4</th>\n",
       "      <td>1.000000</td>\n",
       "      <td>(0.981, 50708.0]</td>\n",
       "    </tr>\n",
       "  </tbody>\n",
       "</table>\n",
       "</div>"
      ],
      "text/plain": [
       "   RevolvingUtilizationOfUnsecuredLines              bins\n",
       "0                              0.885519    (0.699, 0.981]\n",
       "1                              0.463295    (0.445, 0.699]\n",
       "2                              0.043275  (0.0192, 0.0435]\n",
       "3                              0.280308    (0.271, 0.445]\n",
       "4                              1.000000  (0.981, 50708.0]"
      ]
     },
     "execution_count": 187,
     "metadata": {},
     "output_type": "execute_result"
    }
   ],
   "source": [
    "df_revolving_test = df_test.copy()\n",
    "df_revolving_test = df_revolving_test.loc[:, [var_train[1]]]\n",
    "bins = pd.IntervalIndex.from_tuples([(-0.001, 0.00297), (0.00297, 0.0192), (0.0192, 0.0435), (0.0435, 0.0832), (0.0832, 0.154),\n",
    "                                    (0.154, 0.271), (0.271, 0.445), (0.445, 0.699), (0.699, 0.981), (0.981, 50708.0)])\n",
    "binned_x = pd.cut(df_revolving_test[var_test[1]], bins = bins, precision = 0, right = True)\n",
    "df_revolving_test['bins'] = binned_x\n",
    "df_revolving_test.head()"
   ]
  },
  {
   "cell_type": "code",
   "execution_count": 189,
   "metadata": {},
   "outputs": [
    {
     "data": {
      "text/html": [
       "<div>\n",
       "<style scoped>\n",
       "    .dataframe tbody tr th:only-of-type {\n",
       "        vertical-align: middle;\n",
       "    }\n",
       "\n",
       "    .dataframe tbody tr th {\n",
       "        vertical-align: top;\n",
       "    }\n",
       "\n",
       "    .dataframe thead th {\n",
       "        text-align: right;\n",
       "    }\n",
       "</style>\n",
       "<table border=\"1\" class=\"dataframe\">\n",
       "  <thead>\n",
       "    <tr style=\"text-align: right;\">\n",
       "      <th></th>\n",
       "      <th>SeriousDlqin2yrs</th>\n",
       "      <th>RevolvingUtilizationOfUnsecuredLines</th>\n",
       "      <th>bins</th>\n",
       "      <th>revolving_woe</th>\n",
       "    </tr>\n",
       "  </thead>\n",
       "  <tbody>\n",
       "    <tr>\n",
       "      <th>0</th>\n",
       "      <td>1</td>\n",
       "      <td>0.766127</td>\n",
       "      <td>(0.699, 0.981]</td>\n",
       "      <td>1.021066</td>\n",
       "    </tr>\n",
       "    <tr>\n",
       "      <th>1</th>\n",
       "      <td>0</td>\n",
       "      <td>0.957151</td>\n",
       "      <td>(0.699, 0.981]</td>\n",
       "      <td>1.021066</td>\n",
       "    </tr>\n",
       "    <tr>\n",
       "      <th>2</th>\n",
       "      <td>0</td>\n",
       "      <td>0.658180</td>\n",
       "      <td>(0.445, 0.699]</td>\n",
       "      <td>0.297972</td>\n",
       "    </tr>\n",
       "    <tr>\n",
       "      <th>3</th>\n",
       "      <td>0</td>\n",
       "      <td>0.233810</td>\n",
       "      <td>(0.154, 0.271]</td>\n",
       "      <td>-0.688430</td>\n",
       "    </tr>\n",
       "    <tr>\n",
       "      <th>4</th>\n",
       "      <td>0</td>\n",
       "      <td>0.907239</td>\n",
       "      <td>(0.699, 0.981]</td>\n",
       "      <td>1.021066</td>\n",
       "    </tr>\n",
       "  </tbody>\n",
       "</table>\n",
       "</div>"
      ],
      "text/plain": [
       "   SeriousDlqin2yrs  RevolvingUtilizationOfUnsecuredLines            bins  \\\n",
       "0                 1                              0.766127  (0.699, 0.981]   \n",
       "1                 0                              0.957151  (0.699, 0.981]   \n",
       "2                 0                              0.658180  (0.445, 0.699]   \n",
       "3                 0                              0.233810  (0.154, 0.271]   \n",
       "4                 0                              0.907239  (0.699, 0.981]   \n",
       "\n",
       "   revolving_woe  \n",
       "0       1.021066  \n",
       "1       1.021066  \n",
       "2       0.297972  \n",
       "3      -0.688430  \n",
       "4       1.021066  "
      ]
     },
     "execution_count": 189,
     "metadata": {},
     "output_type": "execute_result"
    }
   ],
   "source": [
    "df_revolving_train['revolving_woe'] = [revolving_woe['WoE'][revolving_woe['Cutoff'].to_list().index(val)] for val in df_revolving_train['bins']]\n",
    "df_revolving_train.head()"
   ]
  },
  {
   "cell_type": "code",
   "execution_count": 190,
   "metadata": {},
   "outputs": [
    {
     "data": {
      "text/html": [
       "<div>\n",
       "<style scoped>\n",
       "    .dataframe tbody tr th:only-of-type {\n",
       "        vertical-align: middle;\n",
       "    }\n",
       "\n",
       "    .dataframe tbody tr th {\n",
       "        vertical-align: top;\n",
       "    }\n",
       "\n",
       "    .dataframe thead th {\n",
       "        text-align: right;\n",
       "    }\n",
       "</style>\n",
       "<table border=\"1\" class=\"dataframe\">\n",
       "  <thead>\n",
       "    <tr style=\"text-align: right;\">\n",
       "      <th></th>\n",
       "      <th>RevolvingUtilizationOfUnsecuredLines</th>\n",
       "      <th>bins</th>\n",
       "      <th>revolving_woe</th>\n",
       "    </tr>\n",
       "  </thead>\n",
       "  <tbody>\n",
       "    <tr>\n",
       "      <th>0</th>\n",
       "      <td>0.885519</td>\n",
       "      <td>(0.699, 0.981]</td>\n",
       "      <td>1.021066</td>\n",
       "    </tr>\n",
       "    <tr>\n",
       "      <th>1</th>\n",
       "      <td>0.463295</td>\n",
       "      <td>(0.445, 0.699]</td>\n",
       "      <td>0.297972</td>\n",
       "    </tr>\n",
       "    <tr>\n",
       "      <th>2</th>\n",
       "      <td>0.043275</td>\n",
       "      <td>(0.0192, 0.0435]</td>\n",
       "      <td>-1.618324</td>\n",
       "    </tr>\n",
       "    <tr>\n",
       "      <th>3</th>\n",
       "      <td>0.280308</td>\n",
       "      <td>(0.271, 0.445]</td>\n",
       "      <td>-0.257409</td>\n",
       "    </tr>\n",
       "    <tr>\n",
       "      <th>4</th>\n",
       "      <td>1.000000</td>\n",
       "      <td>(0.981, 50708.0]</td>\n",
       "      <td>1.437351</td>\n",
       "    </tr>\n",
       "  </tbody>\n",
       "</table>\n",
       "</div>"
      ],
      "text/plain": [
       "   RevolvingUtilizationOfUnsecuredLines              bins  revolving_woe\n",
       "0                              0.885519    (0.699, 0.981]       1.021066\n",
       "1                              0.463295    (0.445, 0.699]       0.297972\n",
       "2                              0.043275  (0.0192, 0.0435]      -1.618324\n",
       "3                              0.280308    (0.271, 0.445]      -0.257409\n",
       "4                              1.000000  (0.981, 50708.0]       1.437351"
      ]
     },
     "execution_count": 190,
     "metadata": {},
     "output_type": "execute_result"
    }
   ],
   "source": [
    "df_revolving_test['revolving_woe'] = [revolving_woe['WoE'][revolving_woe['Cutoff'].to_list().index(val)] for val in df_revolving_test['bins']]\n",
    "df_revolving_test.head()"
   ]
  },
  {
   "cell_type": "code",
   "execution_count": 191,
   "metadata": {},
   "outputs": [
    {
     "data": {
      "text/plain": [
       "array([[0.99988328]])"
      ]
     },
     "execution_count": 191,
     "metadata": {},
     "output_type": "execute_result"
    }
   ],
   "source": [
    "from sklearn.linear_model import LogisticRegression\n",
    "x = df_revolving_train['revolving_woe']\n",
    "y = df_revolving_train.iloc[:, 0]\n",
    "clf = LogisticRegression()\n",
    "clf.fit(np.array(x).reshape(-1, 1), np.array(y))\n",
    "clf.coef_"
   ]
  },
  {
   "cell_type": "code",
   "execution_count": 38,
   "metadata": {},
   "outputs": [
    {
     "data": {
      "text/html": [
       "<div>\n",
       "<style scoped>\n",
       "    .dataframe tbody tr th:only-of-type {\n",
       "        vertical-align: middle;\n",
       "    }\n",
       "\n",
       "    .dataframe tbody tr th {\n",
       "        vertical-align: top;\n",
       "    }\n",
       "\n",
       "    .dataframe thead th {\n",
       "        text-align: right;\n",
       "    }\n",
       "</style>\n",
       "<table border=\"1\" class=\"dataframe\">\n",
       "  <thead>\n",
       "    <tr style=\"text-align: right;\">\n",
       "      <th></th>\n",
       "      <th>count</th>\n",
       "      <th>mean</th>\n",
       "      <th>std</th>\n",
       "      <th>min</th>\n",
       "      <th>25%</th>\n",
       "      <th>50%</th>\n",
       "      <th>75%</th>\n",
       "      <th>max</th>\n",
       "    </tr>\n",
       "  </thead>\n",
       "  <tbody>\n",
       "    <tr>\n",
       "      <th>age</th>\n",
       "      <td>150000.0</td>\n",
       "      <td>52.295207</td>\n",
       "      <td>14.771866</td>\n",
       "      <td>0.0</td>\n",
       "      <td>41.0</td>\n",
       "      <td>52.0</td>\n",
       "      <td>63.0</td>\n",
       "      <td>109.0</td>\n",
       "    </tr>\n",
       "  </tbody>\n",
       "</table>\n",
       "</div>"
      ],
      "text/plain": [
       "        count       mean        std  min   25%   50%   75%    max\n",
       "age  150000.0  52.295207  14.771866  0.0  41.0  52.0  63.0  109.0"
      ]
     },
     "execution_count": 38,
     "metadata": {},
     "output_type": "execute_result"
    },
    {
     "data": {
      "image/png": "[encoded data removed]",
      "text/plain": [
       "<Figure size 720x288 with 2 Axes>"
      ]
     },
     "metadata": {},
     "output_type": "display_data"
    }
   ],
   "source": [
    "univariate_analysis(df_train, var_train[2])"
   ]
  },
  {
   "cell_type": "code",
   "execution_count": 39,
   "metadata": {},
   "outputs": [
    {
     "data": {
      "text/html": [
       "<div>\n",
       "<style scoped>\n",
       "    .dataframe tbody tr th:only-of-type {\n",
       "        vertical-align: middle;\n",
       "    }\n",
       "\n",
       "    .dataframe tbody tr th {\n",
       "        vertical-align: top;\n",
       "    }\n",
       "\n",
       "    .dataframe thead th {\n",
       "        text-align: right;\n",
       "    }\n",
       "</style>\n",
       "<table border=\"1\" class=\"dataframe\">\n",
       "  <thead>\n",
       "    <tr style=\"text-align: right;\">\n",
       "      <th></th>\n",
       "      <th>count</th>\n",
       "      <th>mean</th>\n",
       "      <th>std</th>\n",
       "      <th>min</th>\n",
       "      <th>25%</th>\n",
       "      <th>50%</th>\n",
       "      <th>75%</th>\n",
       "      <th>max</th>\n",
       "    </tr>\n",
       "  </thead>\n",
       "  <tbody>\n",
       "    <tr>\n",
       "      <th>age</th>\n",
       "      <td>101503.0</td>\n",
       "      <td>52.405436</td>\n",
       "      <td>14.779756</td>\n",
       "      <td>21.0</td>\n",
       "      <td>41.0</td>\n",
       "      <td>52.0</td>\n",
       "      <td>63.0</td>\n",
       "      <td>104.0</td>\n",
       "    </tr>\n",
       "  </tbody>\n",
       "</table>\n",
       "</div>"
      ],
      "text/plain": [
       "        count       mean        std   min   25%   50%   75%    max\n",
       "age  101503.0  52.405436  14.779756  21.0  41.0  52.0  63.0  104.0"
      ]
     },
     "execution_count": 39,
     "metadata": {},
     "output_type": "execute_result"
    },
    {
     "data": {
      "image/png": "[encoded data removed]",
      "text/plain": [
       "<Figure size 720x288 with 2 Axes>"
      ]
     },
     "metadata": {},
     "output_type": "display_data"
    }
   ],
   "source": [
    "univariate_analysis(df_test, var_test[2])"
   ]
  },
  {
   "cell_type": "code",
   "execution_count": 196,
   "metadata": {},
   "outputs": [
    {
     "data": {
      "text/html": [
       "<div>\n",
       "<style scoped>\n",
       "    .dataframe tbody tr th:only-of-type {\n",
       "        vertical-align: middle;\n",
       "    }\n",
       "\n",
       "    .dataframe tbody tr th {\n",
       "        vertical-align: top;\n",
       "    }\n",
       "\n",
       "    .dataframe thead th {\n",
       "        text-align: right;\n",
       "    }\n",
       "</style>\n",
       "<table border=\"1\" class=\"dataframe\">\n",
       "  <thead>\n",
       "    <tr style=\"text-align: right;\">\n",
       "      <th></th>\n",
       "      <th>Variable</th>\n",
       "      <th>Cutoff</th>\n",
       "      <th>N</th>\n",
       "      <th>Events</th>\n",
       "      <th>% of Events</th>\n",
       "      <th>Non-Events</th>\n",
       "      <th>% of Non-Events</th>\n",
       "      <th>WoE</th>\n",
       "      <th>IV</th>\n",
       "    </tr>\n",
       "  </thead>\n",
       "  <tbody>\n",
       "    <tr>\n",
       "      <th>0</th>\n",
       "      <td>age</td>\n",
       "      <td>(-0.001, 33.0]</td>\n",
       "      <td>17085</td>\n",
       "      <td>1940</td>\n",
       "      <td>0.193497</td>\n",
       "      <td>15145</td>\n",
       "      <td>0.108199</td>\n",
       "      <td>0.581293</td>\n",
       "      <td>0.049583</td>\n",
       "    </tr>\n",
       "    <tr>\n",
       "      <th>1</th>\n",
       "      <td>age</td>\n",
       "      <td>(33.0, 39.0]</td>\n",
       "      <td>14919</td>\n",
       "      <td>1430</td>\n",
       "      <td>0.142629</td>\n",
       "      <td>13489</td>\n",
       "      <td>0.096368</td>\n",
       "      <td>0.392075</td>\n",
       "      <td>0.018138</td>\n",
       "    </tr>\n",
       "    <tr>\n",
       "      <th>2</th>\n",
       "      <td>age</td>\n",
       "      <td>(39.0, 44.0]</td>\n",
       "      <td>15799</td>\n",
       "      <td>1365</td>\n",
       "      <td>0.136146</td>\n",
       "      <td>14434</td>\n",
       "      <td>0.103119</td>\n",
       "      <td>0.277843</td>\n",
       "      <td>0.009176</td>\n",
       "    </tr>\n",
       "    <tr>\n",
       "      <th>3</th>\n",
       "      <td>age</td>\n",
       "      <td>(44.0, 48.0]</td>\n",
       "      <td>14741</td>\n",
       "      <td>1200</td>\n",
       "      <td>0.119689</td>\n",
       "      <td>13541</td>\n",
       "      <td>0.096739</td>\n",
       "      <td>0.212874</td>\n",
       "      <td>0.004885</td>\n",
       "    </tr>\n",
       "    <tr>\n",
       "      <th>4</th>\n",
       "      <td>age</td>\n",
       "      <td>(48.0, 52.0]</td>\n",
       "      <td>14826</td>\n",
       "      <td>1142</td>\n",
       "      <td>0.113904</td>\n",
       "      <td>13684</td>\n",
       "      <td>0.097761</td>\n",
       "      <td>0.152829</td>\n",
       "      <td>0.002467</td>\n",
       "    </tr>\n",
       "    <tr>\n",
       "      <th>5</th>\n",
       "      <td>age</td>\n",
       "      <td>(52.0, 56.0]</td>\n",
       "      <td>14214</td>\n",
       "      <td>935</td>\n",
       "      <td>0.093258</td>\n",
       "      <td>13279</td>\n",
       "      <td>0.094868</td>\n",
       "      <td>-0.017118</td>\n",
       "      <td>0.000028</td>\n",
       "    </tr>\n",
       "    <tr>\n",
       "      <th>6</th>\n",
       "      <td>age</td>\n",
       "      <td>(56.0, 61.0]</td>\n",
       "      <td>16878</td>\n",
       "      <td>839</td>\n",
       "      <td>0.083682</td>\n",
       "      <td>16039</td>\n",
       "      <td>0.114586</td>\n",
       "      <td>-0.314293</td>\n",
       "      <td>0.009713</td>\n",
       "    </tr>\n",
       "    <tr>\n",
       "      <th>7</th>\n",
       "      <td>age</td>\n",
       "      <td>(61.0, 65.0]</td>\n",
       "      <td>12939</td>\n",
       "      <td>485</td>\n",
       "      <td>0.048374</td>\n",
       "      <td>12454</td>\n",
       "      <td>0.088974</td>\n",
       "      <td>-0.609373</td>\n",
       "      <td>0.024740</td>\n",
       "    </tr>\n",
       "    <tr>\n",
       "      <th>8</th>\n",
       "      <td>age</td>\n",
       "      <td>(65.0, 72.0]</td>\n",
       "      <td>14258</td>\n",
       "      <td>380</td>\n",
       "      <td>0.037901</td>\n",
       "      <td>13878</td>\n",
       "      <td>0.099147</td>\n",
       "      <td>-0.961614</td>\n",
       "      <td>0.058895</td>\n",
       "    </tr>\n",
       "    <tr>\n",
       "      <th>9</th>\n",
       "      <td>age</td>\n",
       "      <td>(72.0, 109.0]</td>\n",
       "      <td>14341</td>\n",
       "      <td>310</td>\n",
       "      <td>0.030920</td>\n",
       "      <td>14031</td>\n",
       "      <td>0.100240</td>\n",
       "      <td>-1.176177</td>\n",
       "      <td>0.081533</td>\n",
       "    </tr>\n",
       "  </tbody>\n",
       "</table>\n",
       "</div>"
      ],
      "text/plain": [
       "  Variable          Cutoff      N  Events  % of Events  Non-Events  \\\n",
       "0      age  (-0.001, 33.0]  17085    1940     0.193497       15145   \n",
       "1      age    (33.0, 39.0]  14919    1430     0.142629       13489   \n",
       "2      age    (39.0, 44.0]  15799    1365     0.136146       14434   \n",
       "3      age    (44.0, 48.0]  14741    1200     0.119689       13541   \n",
       "4      age    (48.0, 52.0]  14826    1142     0.113904       13684   \n",
       "5      age    (52.0, 56.0]  14214     935     0.093258       13279   \n",
       "6      age    (56.0, 61.0]  16878     839     0.083682       16039   \n",
       "7      age    (61.0, 65.0]  12939     485     0.048374       12454   \n",
       "8      age    (65.0, 72.0]  14258     380     0.037901       13878   \n",
       "9      age   (72.0, 109.0]  14341     310     0.030920       14031   \n",
       "\n",
       "   % of Non-Events       WoE        IV  \n",
       "0         0.108199  0.581293  0.049583  \n",
       "1         0.096368  0.392075  0.018138  \n",
       "2         0.103119  0.277843  0.009176  \n",
       "3         0.096739  0.212874  0.004885  \n",
       "4         0.097761  0.152829  0.002467  \n",
       "5         0.094868 -0.017118  0.000028  \n",
       "6         0.114586 -0.314293  0.009713  \n",
       "7         0.088974 -0.609373  0.024740  \n",
       "8         0.099147 -0.961614  0.058895  \n",
       "9         0.100240 -1.176177  0.081533  "
      ]
     },
     "execution_count": 196,
     "metadata": {},
     "output_type": "execute_result"
    }
   ],
   "source": [
    "age_woe = woe(df_train, var_train[2], var_train[0], 10)\n",
    "age_woe"
   ]
  },
  {
   "cell_type": "code",
   "execution_count": 197,
   "metadata": {},
   "outputs": [
    {
     "data": {
      "text/plain": [
       "0.25915789961405533"
      ]
     },
     "execution_count": 197,
     "metadata": {},
     "output_type": "execute_result"
    }
   ],
   "source": [
    "age_woe['IV'].sum()"
   ]
  },
  {
   "cell_type": "code",
   "execution_count": 198,
   "metadata": {},
   "outputs": [
    {
     "data": {
      "image/png": "[encoded data removed]",
      "text/plain": [
       "<Figure size 1296x432 with 1 Axes>"
      ]
     },
     "metadata": {},
     "output_type": "display_data"
    }
   ],
   "source": [
    "plot_WoE(age_woe)"
   ]
  },
  {
   "cell_type": "code",
   "execution_count": 199,
   "metadata": {},
   "outputs": [
    {
     "data": {
      "text/html": [
       "<div>\n",
       "<style scoped>\n",
       "    .dataframe tbody tr th:only-of-type {\n",
       "        vertical-align: middle;\n",
       "    }\n",
       "\n",
       "    .dataframe tbody tr th {\n",
       "        vertical-align: top;\n",
       "    }\n",
       "\n",
       "    .dataframe thead th {\n",
       "        text-align: right;\n",
       "    }\n",
       "</style>\n",
       "<table border=\"1\" class=\"dataframe\">\n",
       "  <thead>\n",
       "    <tr style=\"text-align: right;\">\n",
       "      <th></th>\n",
       "      <th>SeriousDlqin2yrs</th>\n",
       "      <th>age</th>\n",
       "      <th>bins</th>\n",
       "    </tr>\n",
       "  </thead>\n",
       "  <tbody>\n",
       "    <tr>\n",
       "      <th>0</th>\n",
       "      <td>1</td>\n",
       "      <td>45</td>\n",
       "      <td>(44.0, 48.0]</td>\n",
       "    </tr>\n",
       "    <tr>\n",
       "      <th>1</th>\n",
       "      <td>0</td>\n",
       "      <td>40</td>\n",
       "      <td>(39.0, 44.0]</td>\n",
       "    </tr>\n",
       "    <tr>\n",
       "      <th>2</th>\n",
       "      <td>0</td>\n",
       "      <td>38</td>\n",
       "      <td>(33.0, 39.0]</td>\n",
       "    </tr>\n",
       "    <tr>\n",
       "      <th>3</th>\n",
       "      <td>0</td>\n",
       "      <td>30</td>\n",
       "      <td>(-0.001, 33.0]</td>\n",
       "    </tr>\n",
       "    <tr>\n",
       "      <th>4</th>\n",
       "      <td>0</td>\n",
       "      <td>49</td>\n",
       "      <td>(48.0, 52.0]</td>\n",
       "    </tr>\n",
       "  </tbody>\n",
       "</table>\n",
       "</div>"
      ],
      "text/plain": [
       "   SeriousDlqin2yrs  age            bins\n",
       "0                 1   45    (44.0, 48.0]\n",
       "1                 0   40    (39.0, 44.0]\n",
       "2                 0   38    (33.0, 39.0]\n",
       "3                 0   30  (-0.001, 33.0]\n",
       "4                 0   49    (48.0, 52.0]"
      ]
     },
     "execution_count": 199,
     "metadata": {},
     "output_type": "execute_result"
    }
   ],
   "source": [
    "df_age_train = df_train.copy()\n",
    "df_age_train = df_age_train.loc[:, [var_train[0], var_train[2]]]\n",
    "binned_x = pd.qcut(df_age_train[var_train[2]], 10,  duplicates='drop')\n",
    "df_age_train['bins'] = binned_x\n",
    "df_age_train.head()"
   ]
  },
  {
   "cell_type": "code",
   "execution_count": 200,
   "metadata": {},
   "outputs": [
    {
     "data": {
      "text/html": [
       "<div>\n",
       "<style scoped>\n",
       "    .dataframe tbody tr th:only-of-type {\n",
       "        vertical-align: middle;\n",
       "    }\n",
       "\n",
       "    .dataframe tbody tr th {\n",
       "        vertical-align: top;\n",
       "    }\n",
       "\n",
       "    .dataframe thead th {\n",
       "        text-align: right;\n",
       "    }\n",
       "</style>\n",
       "<table border=\"1\" class=\"dataframe\">\n",
       "  <thead>\n",
       "    <tr style=\"text-align: right;\">\n",
       "      <th></th>\n",
       "      <th>age</th>\n",
       "      <th>bins</th>\n",
       "    </tr>\n",
       "  </thead>\n",
       "  <tbody>\n",
       "    <tr>\n",
       "      <th>0</th>\n",
       "      <td>43</td>\n",
       "      <td>(39.0, 44.0]</td>\n",
       "    </tr>\n",
       "    <tr>\n",
       "      <th>1</th>\n",
       "      <td>57</td>\n",
       "      <td>(56.0, 61.0]</td>\n",
       "    </tr>\n",
       "    <tr>\n",
       "      <th>2</th>\n",
       "      <td>59</td>\n",
       "      <td>(56.0, 61.0]</td>\n",
       "    </tr>\n",
       "    <tr>\n",
       "      <th>3</th>\n",
       "      <td>38</td>\n",
       "      <td>(33.0, 39.0]</td>\n",
       "    </tr>\n",
       "    <tr>\n",
       "      <th>4</th>\n",
       "      <td>27</td>\n",
       "      <td>(-0.001, 33.0]</td>\n",
       "    </tr>\n",
       "  </tbody>\n",
       "</table>\n",
       "</div>"
      ],
      "text/plain": [
       "   age            bins\n",
       "0   43    (39.0, 44.0]\n",
       "1   57    (56.0, 61.0]\n",
       "2   59    (56.0, 61.0]\n",
       "3   38    (33.0, 39.0]\n",
       "4   27  (-0.001, 33.0]"
      ]
     },
     "execution_count": 200,
     "metadata": {},
     "output_type": "execute_result"
    }
   ],
   "source": [
    "df_age_test = df_test.copy()\n",
    "df_age_test = df_age_test.loc[:, [var_test[2]]]\n",
    "bins = pd.IntervalIndex.from_tuples([(-0.001, 33), (33, 39), (39, 44), (44, 48), (48, 52),\n",
    "                                    (52, 56), (56, 61), (61, 65), (65, 72), (72, 109)])\n",
    "binned_x = pd.cut(df_age_test[var_test[2]], bins = bins, precision = 0, right = True)\n",
    "df_age_test['bins'] = binned_x\n",
    "df_age_test.head()"
   ]
  },
  {
   "cell_type": "code",
   "execution_count": 201,
   "metadata": {},
   "outputs": [
    {
     "data": {
      "text/html": [
       "<div>\n",
       "<style scoped>\n",
       "    .dataframe tbody tr th:only-of-type {\n",
       "        vertical-align: middle;\n",
       "    }\n",
       "\n",
       "    .dataframe tbody tr th {\n",
       "        vertical-align: top;\n",
       "    }\n",
       "\n",
       "    .dataframe thead th {\n",
       "        text-align: right;\n",
       "    }\n",
       "</style>\n",
       "<table border=\"1\" class=\"dataframe\">\n",
       "  <thead>\n",
       "    <tr style=\"text-align: right;\">\n",
       "      <th></th>\n",
       "      <th>SeriousDlqin2yrs</th>\n",
       "      <th>age</th>\n",
       "      <th>bins</th>\n",
       "      <th>age_woe</th>\n",
       "    </tr>\n",
       "  </thead>\n",
       "  <tbody>\n",
       "    <tr>\n",
       "      <th>0</th>\n",
       "      <td>1</td>\n",
       "      <td>45</td>\n",
       "      <td>(44.0, 48.0]</td>\n",
       "      <td>0.212874</td>\n",
       "    </tr>\n",
       "    <tr>\n",
       "      <th>1</th>\n",
       "      <td>0</td>\n",
       "      <td>40</td>\n",
       "      <td>(39.0, 44.0]</td>\n",
       "      <td>0.277843</td>\n",
       "    </tr>\n",
       "    <tr>\n",
       "      <th>2</th>\n",
       "      <td>0</td>\n",
       "      <td>38</td>\n",
       "      <td>(33.0, 39.0]</td>\n",
       "      <td>0.392075</td>\n",
       "    </tr>\n",
       "    <tr>\n",
       "      <th>3</th>\n",
       "      <td>0</td>\n",
       "      <td>30</td>\n",
       "      <td>(-0.001, 33.0]</td>\n",
       "      <td>0.581293</td>\n",
       "    </tr>\n",
       "    <tr>\n",
       "      <th>4</th>\n",
       "      <td>0</td>\n",
       "      <td>49</td>\n",
       "      <td>(48.0, 52.0]</td>\n",
       "      <td>0.152829</td>\n",
       "    </tr>\n",
       "  </tbody>\n",
       "</table>\n",
       "</div>"
      ],
      "text/plain": [
       "   SeriousDlqin2yrs  age            bins   age_woe\n",
       "0                 1   45    (44.0, 48.0]  0.212874\n",
       "1                 0   40    (39.0, 44.0]  0.277843\n",
       "2                 0   38    (33.0, 39.0]  0.392075\n",
       "3                 0   30  (-0.001, 33.0]  0.581293\n",
       "4                 0   49    (48.0, 52.0]  0.152829"
      ]
     },
     "execution_count": 201,
     "metadata": {},
     "output_type": "execute_result"
    }
   ],
   "source": [
    "df_age_train['age_woe'] = [age_woe['WoE'][age_woe['Cutoff'].to_list().index(val)] for val in df_age_train['bins']]\n",
    "df_age_train.head()"
   ]
  },
  {
   "cell_type": "code",
   "execution_count": 203,
   "metadata": {},
   "outputs": [
    {
     "data": {
      "text/html": [
       "<div>\n",
       "<style scoped>\n",
       "    .dataframe tbody tr th:only-of-type {\n",
       "        vertical-align: middle;\n",
       "    }\n",
       "\n",
       "    .dataframe tbody tr th {\n",
       "        vertical-align: top;\n",
       "    }\n",
       "\n",
       "    .dataframe thead th {\n",
       "        text-align: right;\n",
       "    }\n",
       "</style>\n",
       "<table border=\"1\" class=\"dataframe\">\n",
       "  <thead>\n",
       "    <tr style=\"text-align: right;\">\n",
       "      <th></th>\n",
       "      <th>age</th>\n",
       "      <th>bins</th>\n",
       "      <th>age_woe</th>\n",
       "    </tr>\n",
       "  </thead>\n",
       "  <tbody>\n",
       "    <tr>\n",
       "      <th>0</th>\n",
       "      <td>43</td>\n",
       "      <td>(39.0, 44.0]</td>\n",
       "      <td>0.277843</td>\n",
       "    </tr>\n",
       "    <tr>\n",
       "      <th>1</th>\n",
       "      <td>57</td>\n",
       "      <td>(56.0, 61.0]</td>\n",
       "      <td>-0.314293</td>\n",
       "    </tr>\n",
       "    <tr>\n",
       "      <th>2</th>\n",
       "      <td>59</td>\n",
       "      <td>(56.0, 61.0]</td>\n",
       "      <td>-0.314293</td>\n",
       "    </tr>\n",
       "    <tr>\n",
       "      <th>3</th>\n",
       "      <td>38</td>\n",
       "      <td>(33.0, 39.0]</td>\n",
       "      <td>0.392075</td>\n",
       "    </tr>\n",
       "    <tr>\n",
       "      <th>4</th>\n",
       "      <td>27</td>\n",
       "      <td>(-0.001, 33.0]</td>\n",
       "      <td>0.581293</td>\n",
       "    </tr>\n",
       "  </tbody>\n",
       "</table>\n",
       "</div>"
      ],
      "text/plain": [
       "   age            bins   age_woe\n",
       "0   43    (39.0, 44.0]  0.277843\n",
       "1   57    (56.0, 61.0] -0.314293\n",
       "2   59    (56.0, 61.0] -0.314293\n",
       "3   38    (33.0, 39.0]  0.392075\n",
       "4   27  (-0.001, 33.0]  0.581293"
      ]
     },
     "execution_count": 203,
     "metadata": {},
     "output_type": "execute_result"
    }
   ],
   "source": [
    "df_age_test['age_woe'] = [age_woe['WoE'][age_woe['Cutoff'].to_list().index(val)] for val in df_age_test['bins']]\n",
    "df_age_test.head()"
   ]
  },
  {
   "cell_type": "code",
   "execution_count": 205,
   "metadata": {},
   "outputs": [
    {
     "data": {
      "text/plain": [
       "array([[0.9994623]])"
      ]
     },
     "execution_count": 205,
     "metadata": {},
     "output_type": "execute_result"
    }
   ],
   "source": [
    "age_x = df_age_train.iloc[:, 3]\n",
    "age_y = df_age_train.iloc[:, 0]\n",
    "age_clf = LogisticRegression()\n",
    "age_clf.fit(np.array(age_x).reshape(-1, 1), np.array(age_y))\n",
    "age_clf.coef_"
   ]
  },
  {
   "cell_type": "markdown",
   "metadata": {},
   "source": [
    "FEATURE 3: PAST_DUE 30-59 DAYS"
   ]
  },
  {
   "cell_type": "code",
   "execution_count": 206,
   "metadata": {},
   "outputs": [
    {
     "data": {
      "text/html": [
       "<div>\n",
       "<style scoped>\n",
       "    .dataframe tbody tr th:only-of-type {\n",
       "        vertical-align: middle;\n",
       "    }\n",
       "\n",
       "    .dataframe tbody tr th {\n",
       "        vertical-align: top;\n",
       "    }\n",
       "\n",
       "    .dataframe thead th {\n",
       "        text-align: right;\n",
       "    }\n",
       "</style>\n",
       "<table border=\"1\" class=\"dataframe\">\n",
       "  <thead>\n",
       "    <tr style=\"text-align: right;\">\n",
       "      <th></th>\n",
       "      <th>count</th>\n",
       "      <th>mean</th>\n",
       "      <th>std</th>\n",
       "      <th>min</th>\n",
       "      <th>25%</th>\n",
       "      <th>50%</th>\n",
       "      <th>75%</th>\n",
       "      <th>max</th>\n",
       "    </tr>\n",
       "  </thead>\n",
       "  <tbody>\n",
       "    <tr>\n",
       "      <th>NumberOfTime30-59DaysPastDueNotWorse</th>\n",
       "      <td>150000.0</td>\n",
       "      <td>0.421033</td>\n",
       "      <td>4.192781</td>\n",
       "      <td>0.0</td>\n",
       "      <td>0.0</td>\n",
       "      <td>0.0</td>\n",
       "      <td>0.0</td>\n",
       "      <td>98.0</td>\n",
       "    </tr>\n",
       "  </tbody>\n",
       "</table>\n",
       "</div>"
      ],
      "text/plain": [
       "                                         count      mean       std  min  25%  \\\n",
       "NumberOfTime30-59DaysPastDueNotWorse  150000.0  0.421033  4.192781  0.0  0.0   \n",
       "\n",
       "                                      50%  75%   max  \n",
       "NumberOfTime30-59DaysPastDueNotWorse  0.0  0.0  98.0  "
      ]
     },
     "execution_count": 206,
     "metadata": {},
     "output_type": "execute_result"
    },
    {
     "data": {
      "image/png": "[encoded data removed]",
      "text/plain": [
       "<Figure size 720x288 with 2 Axes>"
      ]
     },
     "metadata": {},
     "output_type": "display_data"
    }
   ],
   "source": [
    "univariate_analysis(df_train, var_train[3])"
   ]
  },
  {
   "cell_type": "code",
   "execution_count": 207,
   "metadata": {},
   "outputs": [
    {
     "data": {
      "text/html": [
       "<div>\n",
       "<style scoped>\n",
       "    .dataframe tbody tr th:only-of-type {\n",
       "        vertical-align: middle;\n",
       "    }\n",
       "\n",
       "    .dataframe tbody tr th {\n",
       "        vertical-align: top;\n",
       "    }\n",
       "\n",
       "    .dataframe thead th {\n",
       "        text-align: right;\n",
       "    }\n",
       "</style>\n",
       "<table border=\"1\" class=\"dataframe\">\n",
       "  <thead>\n",
       "    <tr style=\"text-align: right;\">\n",
       "      <th></th>\n",
       "      <th>count</th>\n",
       "      <th>mean</th>\n",
       "      <th>std</th>\n",
       "      <th>min</th>\n",
       "      <th>25%</th>\n",
       "      <th>50%</th>\n",
       "      <th>75%</th>\n",
       "      <th>max</th>\n",
       "    </tr>\n",
       "  </thead>\n",
       "  <tbody>\n",
       "    <tr>\n",
       "      <th>NumberOfTime30-59DaysPastDueNotWorse</th>\n",
       "      <td>101503.0</td>\n",
       "      <td>0.45377</td>\n",
       "      <td>4.538487</td>\n",
       "      <td>0.0</td>\n",
       "      <td>0.0</td>\n",
       "      <td>0.0</td>\n",
       "      <td>0.0</td>\n",
       "      <td>98.0</td>\n",
       "    </tr>\n",
       "  </tbody>\n",
       "</table>\n",
       "</div>"
      ],
      "text/plain": [
       "                                         count     mean       std  min  25%  \\\n",
       "NumberOfTime30-59DaysPastDueNotWorse  101503.0  0.45377  4.538487  0.0  0.0   \n",
       "\n",
       "                                      50%  75%   max  \n",
       "NumberOfTime30-59DaysPastDueNotWorse  0.0  0.0  98.0  "
      ]
     },
     "execution_count": 207,
     "metadata": {},
     "output_type": "execute_result"
    },
    {
     "data": {
      "image/png": "[encoded data removed]",
      "text/plain": [
       "<Figure size 720x288 with 2 Axes>"
      ]
     },
     "metadata": {},
     "output_type": "display_data"
    }
   ],
   "source": [
    "univariate_analysis(df_test, var_test[3])"
   ]
  },
  {
   "cell_type": "code",
   "execution_count": 208,
   "metadata": {},
   "outputs": [
    {
     "data": {
      "text/html": [
       "<div>\n",
       "<style scoped>\n",
       "    .dataframe tbody tr th:only-of-type {\n",
       "        vertical-align: middle;\n",
       "    }\n",
       "\n",
       "    .dataframe tbody tr th {\n",
       "        vertical-align: top;\n",
       "    }\n",
       "\n",
       "    .dataframe thead th {\n",
       "        text-align: right;\n",
       "    }\n",
       "</style>\n",
       "<table border=\"1\" class=\"dataframe\">\n",
       "  <thead>\n",
       "    <tr style=\"text-align: right;\">\n",
       "      <th></th>\n",
       "      <th>count</th>\n",
       "      <th>mean</th>\n",
       "      <th>std</th>\n",
       "      <th>min</th>\n",
       "      <th>25%</th>\n",
       "      <th>50%</th>\n",
       "      <th>75%</th>\n",
       "      <th>max</th>\n",
       "    </tr>\n",
       "  </thead>\n",
       "  <tbody>\n",
       "    <tr>\n",
       "      <th>NumberOfTime30-59DaysPastDueNotWorse</th>\n",
       "      <td>101503.0</td>\n",
       "      <td>0.45377</td>\n",
       "      <td>4.538487</td>\n",
       "      <td>0.0</td>\n",
       "      <td>0.0</td>\n",
       "      <td>0.0</td>\n",
       "      <td>0.0</td>\n",
       "      <td>98.0</td>\n",
       "    </tr>\n",
       "  </tbody>\n",
       "</table>\n",
       "</div>"
      ],
      "text/plain": [
       "                                         count     mean       std  min  25%  \\\n",
       "NumberOfTime30-59DaysPastDueNotWorse  101503.0  0.45377  4.538487  0.0  0.0   \n",
       "\n",
       "                                      50%  75%   max  \n",
       "NumberOfTime30-59DaysPastDueNotWorse  0.0  0.0  98.0  "
      ]
     },
     "execution_count": 208,
     "metadata": {},
     "output_type": "execute_result"
    },
    {
     "data": {
      "image/png": "[encoded data removed]",
      "text/plain": [
       "<Figure size 720x288 with 2 Axes>"
      ]
     },
     "metadata": {},
     "output_type": "display_data"
    }
   ],
   "source": [
    "univariate_analysis(df_test, var_test[3])"
   ]
  },
  {
   "cell_type": "code",
   "execution_count": 215,
   "metadata": {},
   "outputs": [
    {
     "data": {
      "text/plain": [
       "0     126018\n",
       "1      16033\n",
       "2       4598\n",
       "3       1754\n",
       "4        747\n",
       "5        342\n",
       "98       264\n",
       "6        140\n",
       "7         54\n",
       "8         25\n",
       "9         12\n",
       "96         5\n",
       "10         4\n",
       "12         2\n",
       "13         1\n",
       "11         1\n",
       "Name: NumberOfTime30-59DaysPastDueNotWorse, dtype: int64"
      ]
     },
     "execution_count": 215,
     "metadata": {},
     "output_type": "execute_result"
    }
   ],
   "source": [
    "df_train[var_train[3]].value_counts()"
   ]
  },
  {
   "cell_type": "code",
   "execution_count": 218,
   "metadata": {},
   "outputs": [
    {
     "data": {
      "text/html": [
       "<div>\n",
       "<style scoped>\n",
       "    .dataframe tbody tr th:only-of-type {\n",
       "        vertical-align: middle;\n",
       "    }\n",
       "\n",
       "    .dataframe tbody tr th {\n",
       "        vertical-align: top;\n",
       "    }\n",
       "\n",
       "    .dataframe thead th {\n",
       "        text-align: right;\n",
       "    }\n",
       "</style>\n",
       "<table border=\"1\" class=\"dataframe\">\n",
       "  <thead>\n",
       "    <tr style=\"text-align: right;\">\n",
       "      <th></th>\n",
       "      <th>Variable</th>\n",
       "      <th>Cutoff</th>\n",
       "      <th>N</th>\n",
       "      <th>Events</th>\n",
       "      <th>% of Events</th>\n",
       "      <th>Non-Events</th>\n",
       "      <th>% of Non-Events</th>\n",
       "      <th>WoE</th>\n",
       "      <th>IV</th>\n",
       "    </tr>\n",
       "  </thead>\n",
       "  <tbody>\n",
       "    <tr>\n",
       "      <th>0</th>\n",
       "      <td>NumberOfTime30-59DaysPastDueNotWorse</td>\n",
       "      <td>(-0.001, 1.0]</td>\n",
       "      <td>142051</td>\n",
       "      <td>7450</td>\n",
       "      <td>0.743068</td>\n",
       "      <td>134601</td>\n",
       "      <td>0.961614</td>\n",
       "      <td>-0.257826</td>\n",
       "      <td>0.056347</td>\n",
       "    </tr>\n",
       "    <tr>\n",
       "      <th>1</th>\n",
       "      <td>NumberOfTime30-59DaysPastDueNotWorse</td>\n",
       "      <td>(1.0, 98.0]</td>\n",
       "      <td>7949</td>\n",
       "      <td>2576</td>\n",
       "      <td>0.256932</td>\n",
       "      <td>5373</td>\n",
       "      <td>0.038386</td>\n",
       "      <td>1.901126</td>\n",
       "      <td>0.415484</td>\n",
       "    </tr>\n",
       "  </tbody>\n",
       "</table>\n",
       "</div>"
      ],
      "text/plain": [
       "                               Variable         Cutoff       N  Events  \\\n",
       "0  NumberOfTime30-59DaysPastDueNotWorse  (-0.001, 1.0]  142051    7450   \n",
       "1  NumberOfTime30-59DaysPastDueNotWorse    (1.0, 98.0]    7949    2576   \n",
       "\n",
       "   % of Events  Non-Events  % of Non-Events       WoE        IV  \n",
       "0     0.743068      134601         0.961614 -0.257826  0.056347  \n",
       "1     0.256932        5373         0.038386  1.901126  0.415484  "
      ]
     },
     "execution_count": 218,
     "metadata": {},
     "output_type": "execute_result"
    }
   ],
   "source": [
    "past_due_30_woe = woe(df_train, var_train[3], var_train[0], 10)\n",
    "past_due_30_woe"
   ]
  },
  {
   "cell_type": "code",
   "execution_count": 219,
   "metadata": {},
   "outputs": [
    {
     "data": {
      "text/plain": [
       "0.4718309671341856"
      ]
     },
     "execution_count": 219,
     "metadata": {},
     "output_type": "execute_result"
    }
   ],
   "source": [
    "past_due_30_woe['IV'].sum()"
   ]
  },
  {
   "cell_type": "code",
   "execution_count": 220,
   "metadata": {},
   "outputs": [
    {
     "data": {
      "image/png": "[encoded data removed]",
      "text/plain": [
       "<Figure size 1296x432 with 1 Axes>"
      ]
     },
     "metadata": {},
     "output_type": "display_data"
    }
   ],
   "source": [
    "plot_WoE(past_due_30_woe)"
   ]
  },
  {
   "cell_type": "code",
   "execution_count": 221,
   "metadata": {},
   "outputs": [
    {
     "data": {
      "text/html": [
       "<div>\n",
       "<style scoped>\n",
       "    .dataframe tbody tr th:only-of-type {\n",
       "        vertical-align: middle;\n",
       "    }\n",
       "\n",
       "    .dataframe tbody tr th {\n",
       "        vertical-align: top;\n",
       "    }\n",
       "\n",
       "    .dataframe thead th {\n",
       "        text-align: right;\n",
       "    }\n",
       "</style>\n",
       "<table border=\"1\" class=\"dataframe\">\n",
       "  <thead>\n",
       "    <tr style=\"text-align: right;\">\n",
       "      <th></th>\n",
       "      <th>SeriousDlqin2yrs</th>\n",
       "      <th>NumberOfTime30-59DaysPastDueNotWorse</th>\n",
       "      <th>bins</th>\n",
       "    </tr>\n",
       "  </thead>\n",
       "  <tbody>\n",
       "    <tr>\n",
       "      <th>0</th>\n",
       "      <td>1</td>\n",
       "      <td>2</td>\n",
       "      <td>(1.0, 98.0]</td>\n",
       "    </tr>\n",
       "    <tr>\n",
       "      <th>1</th>\n",
       "      <td>0</td>\n",
       "      <td>0</td>\n",
       "      <td>(-0.001, 1.0]</td>\n",
       "    </tr>\n",
       "    <tr>\n",
       "      <th>2</th>\n",
       "      <td>0</td>\n",
       "      <td>1</td>\n",
       "      <td>(-0.001, 1.0]</td>\n",
       "    </tr>\n",
       "    <tr>\n",
       "      <th>3</th>\n",
       "      <td>0</td>\n",
       "      <td>0</td>\n",
       "      <td>(-0.001, 1.0]</td>\n",
       "    </tr>\n",
       "    <tr>\n",
       "      <th>4</th>\n",
       "      <td>0</td>\n",
       "      <td>1</td>\n",
       "      <td>(-0.001, 1.0]</td>\n",
       "    </tr>\n",
       "  </tbody>\n",
       "</table>\n",
       "</div>"
      ],
      "text/plain": [
       "   SeriousDlqin2yrs  NumberOfTime30-59DaysPastDueNotWorse           bins\n",
       "0                 1                                     2    (1.0, 98.0]\n",
       "1                 0                                     0  (-0.001, 1.0]\n",
       "2                 0                                     1  (-0.001, 1.0]\n",
       "3                 0                                     0  (-0.001, 1.0]\n",
       "4                 0                                     1  (-0.001, 1.0]"
      ]
     },
     "execution_count": 221,
     "metadata": {},
     "output_type": "execute_result"
    }
   ],
   "source": [
    "df_past_due_30_train = df_train.copy()\n",
    "df_past_due_30_train = df_past_due_30_train.loc[:, [var_train[0], var_train[3]]]\n",
    "binned_x = pd.qcut(df_past_due_30_train[var_train[3]], 10,  duplicates='drop')\n",
    "df_past_due_30_train['bins'] = binned_x\n",
    "df_past_due_30_train.head()"
   ]
  },
  {
   "cell_type": "code",
   "execution_count": 222,
   "metadata": {},
   "outputs": [
    {
     "data": {
      "text/html": [
       "<div>\n",
       "<style scoped>\n",
       "    .dataframe tbody tr th:only-of-type {\n",
       "        vertical-align: middle;\n",
       "    }\n",
       "\n",
       "    .dataframe tbody tr th {\n",
       "        vertical-align: top;\n",
       "    }\n",
       "\n",
       "    .dataframe thead th {\n",
       "        text-align: right;\n",
       "    }\n",
       "</style>\n",
       "<table border=\"1\" class=\"dataframe\">\n",
       "  <thead>\n",
       "    <tr style=\"text-align: right;\">\n",
       "      <th></th>\n",
       "      <th>NumberOfTime30-59DaysPastDueNotWorse</th>\n",
       "      <th>bins</th>\n",
       "    </tr>\n",
       "  </thead>\n",
       "  <tbody>\n",
       "    <tr>\n",
       "      <th>0</th>\n",
       "      <td>0</td>\n",
       "      <td>(-0.001, 1.0]</td>\n",
       "    </tr>\n",
       "    <tr>\n",
       "      <th>1</th>\n",
       "      <td>0</td>\n",
       "      <td>(-0.001, 1.0]</td>\n",
       "    </tr>\n",
       "    <tr>\n",
       "      <th>2</th>\n",
       "      <td>0</td>\n",
       "      <td>(-0.001, 1.0]</td>\n",
       "    </tr>\n",
       "    <tr>\n",
       "      <th>3</th>\n",
       "      <td>1</td>\n",
       "      <td>(-0.001, 1.0]</td>\n",
       "    </tr>\n",
       "    <tr>\n",
       "      <th>4</th>\n",
       "      <td>0</td>\n",
       "      <td>(-0.001, 1.0]</td>\n",
       "    </tr>\n",
       "  </tbody>\n",
       "</table>\n",
       "</div>"
      ],
      "text/plain": [
       "   NumberOfTime30-59DaysPastDueNotWorse           bins\n",
       "0                                     0  (-0.001, 1.0]\n",
       "1                                     0  (-0.001, 1.0]\n",
       "2                                     0  (-0.001, 1.0]\n",
       "3                                     1  (-0.001, 1.0]\n",
       "4                                     0  (-0.001, 1.0]"
      ]
     },
     "execution_count": 222,
     "metadata": {},
     "output_type": "execute_result"
    }
   ],
   "source": [
    "df_past_due_30_test = df_test.copy()\n",
    "df_past_due_30_test = df_past_due_30_test.loc[:, [var_test[3]]]\n",
    "bins = pd.IntervalIndex.from_tuples([(-0.001, 1), (1, 98)])\n",
    "binned_x = pd.cut(df_past_due_30_test[var_test[3]], bins = bins, precision = 0, right = True)\n",
    "df_past_due_30_test['bins'] = binned_x\n",
    "df_past_due_30_test.head()"
   ]
  },
  {
   "cell_type": "code",
   "execution_count": 223,
   "metadata": {},
   "outputs": [
    {
     "data": {
      "text/html": [
       "<div>\n",
       "<style scoped>\n",
       "    .dataframe tbody tr th:only-of-type {\n",
       "        vertical-align: middle;\n",
       "    }\n",
       "\n",
       "    .dataframe tbody tr th {\n",
       "        vertical-align: top;\n",
       "    }\n",
       "\n",
       "    .dataframe thead th {\n",
       "        text-align: right;\n",
       "    }\n",
       "</style>\n",
       "<table border=\"1\" class=\"dataframe\">\n",
       "  <thead>\n",
       "    <tr style=\"text-align: right;\">\n",
       "      <th></th>\n",
       "      <th>SeriousDlqin2yrs</th>\n",
       "      <th>NumberOfTime30-59DaysPastDueNotWorse</th>\n",
       "      <th>bins</th>\n",
       "      <th>past_due_30_woe</th>\n",
       "    </tr>\n",
       "  </thead>\n",
       "  <tbody>\n",
       "    <tr>\n",
       "      <th>0</th>\n",
       "      <td>1</td>\n",
       "      <td>2</td>\n",
       "      <td>(1.0, 98.0]</td>\n",
       "      <td>1.901126</td>\n",
       "    </tr>\n",
       "    <tr>\n",
       "      <th>1</th>\n",
       "      <td>0</td>\n",
       "      <td>0</td>\n",
       "      <td>(-0.001, 1.0]</td>\n",
       "      <td>-0.257826</td>\n",
       "    </tr>\n",
       "    <tr>\n",
       "      <th>2</th>\n",
       "      <td>0</td>\n",
       "      <td>1</td>\n",
       "      <td>(-0.001, 1.0]</td>\n",
       "      <td>-0.257826</td>\n",
       "    </tr>\n",
       "    <tr>\n",
       "      <th>3</th>\n",
       "      <td>0</td>\n",
       "      <td>0</td>\n",
       "      <td>(-0.001, 1.0]</td>\n",
       "      <td>-0.257826</td>\n",
       "    </tr>\n",
       "    <tr>\n",
       "      <th>4</th>\n",
       "      <td>0</td>\n",
       "      <td>1</td>\n",
       "      <td>(-0.001, 1.0]</td>\n",
       "      <td>-0.257826</td>\n",
       "    </tr>\n",
       "  </tbody>\n",
       "</table>\n",
       "</div>"
      ],
      "text/plain": [
       "   SeriousDlqin2yrs  NumberOfTime30-59DaysPastDueNotWorse           bins  \\\n",
       "0                 1                                     2    (1.0, 98.0]   \n",
       "1                 0                                     0  (-0.001, 1.0]   \n",
       "2                 0                                     1  (-0.001, 1.0]   \n",
       "3                 0                                     0  (-0.001, 1.0]   \n",
       "4                 0                                     1  (-0.001, 1.0]   \n",
       "\n",
       "   past_due_30_woe  \n",
       "0         1.901126  \n",
       "1        -0.257826  \n",
       "2        -0.257826  \n",
       "3        -0.257826  \n",
       "4        -0.257826  "
      ]
     },
     "execution_count": 223,
     "metadata": {},
     "output_type": "execute_result"
    }
   ],
   "source": [
    "df_past_due_30_train['past_due_30_woe'] = [past_due_30_woe['WoE'][past_due_30_woe['Cutoff'].to_list().index(val)] for val in df_past_due_30_train['bins']]\n",
    "df_past_due_30_train.head()"
   ]
  },
  {
   "cell_type": "code",
   "execution_count": 148,
   "metadata": {},
   "outputs": [],
   "source": [
    "def iv_woe(data, target, bins=10, show_woe=False):\n",
    "    \n",
    "    #Empty Dataframe\n",
    "    newDF,woeDF = pd.DataFrame(), pd.DataFrame()\n",
    "    \n",
    "    #Extract Column Names\n",
    "    cols = data.columns\n",
    "    \n",
    "    #Run WOE and IV on all the independent variables\n",
    "    for ivars in cols[~cols.isin([target])]:\n",
    "        if (data[ivars].dtype.kind in 'bifc') and (len(np.unique(data[ivars]))>10):\n",
    "            binned_x = pd.qcut(data[ivars], bins,  duplicates='drop')\n",
    "            d0 = pd.DataFrame({'x': binned_x, 'y': data[target]})\n",
    "        else:\n",
    "            d0 = pd.DataFrame({'x': data[ivars], 'y': data[target]})\n",
    "        d = d0.groupby(\"x\", as_index=False).agg({\"y\": [\"count\", \"sum\"]})\n",
    "        d.columns = ['Cutoff', 'N', 'Events']\n",
    "        d['% of Events'] = np.maximum(d['Events'], 0.5) / d['Events'].sum()\n",
    "        d['Non-Events'] = d['N'] - d['Events']\n",
    "        d['% of Non-Events'] = np.maximum(d['Non-Events'], 0.5) / d['Non-Events'].sum()\n",
    "        d['WoE'] = np.log(d['% of Events']/d['% of Non-Events'])\n",
    "        d['IV'] = d['WoE'] * (d['% of Events'] - d['% of Non-Events'])\n",
    "        d.insert(loc=0, column='Variable', value=ivars)\n",
    "        print(\"Information value of \" + ivars + \" is \" + str(round(d['IV'].sum(),6)))\n",
    "        temp =pd.DataFrame({\"Variable\" : [ivars], \"IV\" : [d['IV'].sum()]}, columns = [\"Variable\", \"IV\"])\n",
    "        newDF=pd.concat([newDF,temp], axis=0)\n",
    "        woeDF=pd.concat([woeDF,d], axis=0)\n",
    "\n",
    "        #Show WOE Table\n",
    "        if show_woe == True:\n",
    "            print(d)\n",
    "    return newDF, woeDF"
   ]
  },
  {
   "cell_type": "code",
   "execution_count": null,
   "metadata": {},
   "outputs": [],
   "source": [
    "woe_df = iv_woe(df_train, var[0], 10, False)[1]"
   ]
  },
  {
   "cell_type": "code",
   "execution_count": null,
   "metadata": {},
   "outputs": [],
   "source": [
    "woe_df[woe_df['Variable'] == 'RuYcDcmXWky8CyvW79pq1qxePi72FucuiGes']"
   ]
  },
  {
   "cell_type": "code",
   "execution_count": 1,
   "metadata": {},
   "outputs": [
    {
     "ename": "NameError",
     "evalue": "name 'df_test' is not defined",
     "output_type": "error",
     "traceback": [
      "\u001b[1;31m---------------------------------------------------------------------------\u001b[0m",
      "\u001b[1;31mNameError\u001b[0m                                 Traceback (most recent call last)",
      "\u001b[1;32m<ipython-input-1-2864a69a8e8a>\u001b[0m in \u001b[0;36m<module>\u001b[1;34m\u001b[0m\n\u001b[1;32m----> 1\u001b[1;33m \u001b[0mdf_test\u001b[0m\u001b[1;33m.\u001b[0m\u001b[0miloc\u001b[0m\u001b[1;33m[\u001b[0m\u001b[1;36m0\u001b[0m\u001b[1;33m,\u001b[0m \u001b[1;33m:\u001b[0m\u001b[1;33m]\u001b[0m\u001b[1;33m\u001b[0m\u001b[1;33m\u001b[0m\u001b[0m\n\u001b[0m",
      "\u001b[1;31mNameError\u001b[0m: name 'df_test' is not defined"
     ]
    }
   ],
   "source": [
    "df_test.iloc[0, :]"
   ]
  },
  {
   "cell_type": "code",
   "execution_count": null,
   "metadata": {},
   "outputs": [],
   "source": []
  }
 ],
 "metadata": {
  "kernelspec": {
   "display_name": "Python 3",
   "language": "python",
   "name": "python3"
  },
  "language_info": {
   "codemirror_mode": {
    "name": "ipython",
    "version": 3
   },
   "file_extension": ".py",
   "mimetype": "text/x-python",
   "name": "python",
   "nbconvert_exporter": "python",
   "pygments_lexer": "ipython3",
   "version": "3.7.6"
  }
 },
 "nbformat": 4,
 "nbformat_minor": 4
}
