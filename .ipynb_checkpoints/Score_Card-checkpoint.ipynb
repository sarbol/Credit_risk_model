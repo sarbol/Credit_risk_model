{
 "cells": [
  {
   "cell_type": "code",
   "execution_count": 419,
   "metadata": {},
   "outputs": [],
   "source": [
    "#import libraries for analysis\n",
    "import numpy as np\n",
    "import pandas as pd\n",
    "import matplotlib.pyplot as plt\n",
    "import seaborn as sns\n",
    "from IPython.display import display, HTML\n",
    "sns.set()"
   ]
  },
  {
   "cell_type": "code",
   "execution_count": 420,
   "metadata": {},
   "outputs": [],
   "source": [
    "df_train = pd.read_csv('cs-training.csv')\n",
    "df_test = pd.read_csv('cs-test.csv')"
   ]
  },
  {
   "cell_type": "code",
   "execution_count": 421,
   "metadata": {},
   "outputs": [],
   "source": [
    "df_train.drop(df_train.columns.tolist()[0], axis = 1, inplace = True)\n",
    "df_test.drop('Unnamed: 0', axis = 1, inplace = True)"
   ]
  },
  {
   "cell_type": "code",
   "execution_count": 422,
   "metadata": {},
   "outputs": [],
   "source": [
    "features = df_train.columns.to_list()"
   ]
  },
  {
   "cell_type": "code",
   "execution_count": 423,
   "metadata": {},
   "outputs": [
    {
     "data": {
      "text/plain": [
       "SeriousDlqin2yrs                            0\n",
       "RevolvingUtilizationOfUnsecuredLines        0\n",
       "age                                         0\n",
       "NumberOfTime30-59DaysPastDueNotWorse        0\n",
       "DebtRatio                                   0\n",
       "MonthlyIncome                           29731\n",
       "NumberOfOpenCreditLinesAndLoans             0\n",
       "NumberOfTimes90DaysLate                     0\n",
       "NumberRealEstateLoansOrLines                0\n",
       "NumberOfTime60-89DaysPastDueNotWorse        0\n",
       "NumberOfDependents                       3924\n",
       "dtype: int64"
      ]
     },
     "execution_count": 423,
     "metadata": {},
     "output_type": "execute_result"
    }
   ],
   "source": [
    "df_train.isnull().sum()"
   ]
  },
  {
   "cell_type": "code",
   "execution_count": 424,
   "metadata": {},
   "outputs": [
    {
     "data": {
      "text/plain": [
       "SeriousDlqin2yrs                        101503\n",
       "RevolvingUtilizationOfUnsecuredLines         0\n",
       "age                                          0\n",
       "NumberOfTime30-59DaysPastDueNotWorse         0\n",
       "DebtRatio                                    0\n",
       "MonthlyIncome                            20103\n",
       "NumberOfOpenCreditLinesAndLoans              0\n",
       "NumberOfTimes90DaysLate                      0\n",
       "NumberRealEstateLoansOrLines                 0\n",
       "NumberOfTime60-89DaysPastDueNotWorse         0\n",
       "NumberOfDependents                        2626\n",
       "dtype: int64"
      ]
     },
     "execution_count": 424,
     "metadata": {},
     "output_type": "execute_result"
    }
   ],
   "source": [
    "df_test.isnull().sum()"
   ]
  },
  {
   "cell_type": "code",
   "execution_count": 425,
   "metadata": {},
   "outputs": [],
   "source": [
    "#REPLACE MISSING VALUES WITH THE MEAN OF THE FEATURE\n",
    "df_train['MonthlyIncome'].fillna(np.mean(df_train['MonthlyIncome']), inplace = True)\n",
    "df_train['NumberOfDependents'].fillna(df_train['NumberOfDependents'].value_counts().argmax(), inplace = True)\n",
    "df_test['MonthlyIncome'].fillna(np.mean(df_test['MonthlyIncome']), inplace = True)\n",
    "df_test['NumberOfDependents'].fillna(df_test['NumberOfDependents'].value_counts().argmax(), inplace = True)"
   ]
  },
  {
   "cell_type": "code",
   "execution_count": 426,
   "metadata": {},
   "outputs": [],
   "source": [
    "def univariate_analysis(data, feature, rotation=0):\n",
    "\n",
    "    \"\"\" function returns \n",
    "      histogram, \n",
    "      box-plot, \n",
    "      5-point statistics as DataFrame   \n",
    "    \"\"\"\n",
    "    fig, ax = plt.subplots(figsize=(10,4), ncols=2, nrows=1)\n",
    "    sns.distplot(data[feature], kde=False, rug=True, ax=ax[0])\n",
    "    sns.boxplot(feature, orient='h', data=data, ax=ax[1])\n",
    "   \n",
    "    for ax in ax:\n",
    "        for tick in ax.get_xticklabels():\n",
    "            tick.set_rotation(rotation)\n",
    "            \n",
    "    return data[feature].describe().to_frame().T"
   ]
  },
  {
   "cell_type": "code",
   "execution_count": 427,
   "metadata": {},
   "outputs": [],
   "source": [
    "def woe(data, feature, target, bins=10):\n",
    "    \n",
    "    \n",
    "    #Run WOE and IV on all the independent variables\n",
    "    if (data[feature].dtype.kind in 'bifc') and (len(np.unique(data[feature]))>10):\n",
    "        binned_x = pd.qcut(data[feature], bins,  duplicates='drop')\n",
    "        d0 = pd.DataFrame({'x': binned_x, 'y': data[target]})\n",
    "    else:\n",
    "        d0 = pd.DataFrame({'x': data[feature], 'y': data[target]})\n",
    "    d = d0.groupby(\"x\", as_index=False).agg({\"y\": [\"count\", \"sum\"]})\n",
    "    d.columns = ['Cutoff', 'N', 'Events']\n",
    "    d['% of Events'] = np.maximum(d['Events'], 0.5) / d['Events'].sum()\n",
    "    d['Non-Events'] = d['N'] - d['Events']\n",
    "    d['% of Non-Events'] = np.maximum(d['Non-Events'], 0.5) / d['Non-Events'].sum()\n",
    "    d['WoE'] = np.log(d['% of Non-Events']/d['% of Events'])\n",
    "    d['IV'] = d['WoE'] * (d['% of Non-Events'] - d['% of Events'])\n",
    "    d.insert(loc=0, column='Variable', value=feature)\n",
    "    return d"
   ]
  },
  {
   "cell_type": "code",
   "execution_count": 428,
   "metadata": {},
   "outputs": [],
   "source": [
    "woe_1 = woe(df_train, features[1], features[0], 10)\n",
    "woe_2 = woe(df_train, features[2], features[0], 10)\n",
    "woe_4 = woe(df_train, features[4], features[0], 10)\n",
    "woe_5 = woe(df_train, features[5], features[0], 10)\n",
    "woe_6 = woe(df_train, features[6], features[0], 10)"
   ]
  },
  {
   "cell_type": "code",
   "execution_count": 429,
   "metadata": {},
   "outputs": [],
   "source": [
    "#weight of evidence for feature 3\n",
    "bins = pd.IntervalIndex.from_tuples([(-0.001, 0), (0.1, 1), (1, 2), (2, 3), (3, 5), (5, 9), (9, 13),(13, 96),(96, 98)])\n",
    "binned_x = pd.cut(df_train[features[3]], bins = bins, precision = 0, right = True)\n",
    "d0 = pd.DataFrame({'x': binned_x, 'y': df_train[features[0]]})\n",
    "past_due = d0.groupby(\"x\", as_index=False).agg({\"y\": [\"count\", \"sum\"]})\n",
    "past_due.columns = ['Cutoff', 'N', 'Events']\n",
    "past_due['% of Events'] = np.maximum(past_due['Events'], 0.5) / past_due['Events'].sum()\n",
    "past_due['Non-Events'] = past_due['N'] - past_due['Events']\n",
    "past_due['% of Non-Events'] = np.maximum(past_due['Non-Events'], 0.5) / past_due['Non-Events'].sum()\n",
    "past_due['WoE'] = np.log(past_due['% of Non-Events']/past_due['% of Events'])\n",
    "past_due['IV'] = past_due['WoE'] * (past_due['% of Non-Events'] - past_due['% of Events'])\n",
    "past_due.insert(loc=0, column='Variable', value=features[3])"
   ]
  },
  {
   "cell_type": "code",
   "execution_count": 430,
   "metadata": {},
   "outputs": [],
   "source": [
    "#weight of evidence for feature 7\n",
    "bins = pd.IntervalIndex.from_tuples([(-0.001, 0), (0.1, 2), (2, 5), (5, 9), (9, 17), (17, 96), (96, 98)])\n",
    "binned_x = pd.cut(df_train[features[7]], bins = bins, precision = 0, right = True)\n",
    "d0 = pd.DataFrame({'x': binned_x, 'y': df_train[features[0]]})\n",
    "d = d0.groupby(\"x\", as_index=False).agg({\"y\": [\"count\", \"sum\"]})\n",
    "d.columns = ['Cutoff', 'N', 'Events']\n",
    "d['% of Events'] = np.maximum(d['Events'], 0.5) / d['Events'].sum()\n",
    "d['Non-Events'] = d['N'] - d['Events']\n",
    "d['% of Non-Events'] = np.maximum(d['Non-Events'], 0.5) / d['Non-Events'].sum()\n",
    "d['WoE'] = np.log(d['% of Non-Events']/d['% of Events'])\n",
    "d['IV'] = d['WoE'] * (d['% of Non-Events'] - d['% of Events'])\n",
    "d.insert(loc=0, column='Variable', value=features[7])"
   ]
  },
  {
   "cell_type": "code",
   "execution_count": 431,
   "metadata": {},
   "outputs": [],
   "source": [
    "#weight of evidence for feature 8\n",
    "bins = pd.IntervalIndex.from_tuples([(-0.001, 0), (0, 1), (1, 2), (2, 4), (4, 7), (7, 9), (9, 12), (12, 54)])\n",
    "binned_x = pd.cut(df_train[features[8]], bins = bins, precision = 0, right = True)\n",
    "d0 = pd.DataFrame({'x': binned_x, 'y': df_train[features[0]]})\n",
    "real_estate = d0.groupby(\"x\", as_index=False).agg({\"y\": [\"count\", \"sum\"]})\n",
    "real_estate.columns = ['Cutoff', 'N', 'Events']\n",
    "real_estate['% of Events'] = np.maximum(real_estate['Events'], 0.5) / real_estate['Events'].sum()\n",
    "real_estate['Non-Events'] = real_estate['N'] - real_estate['Events']\n",
    "real_estate['% of Non-Events'] = np.maximum(real_estate['Non-Events'], 0.5) / real_estate['Non-Events'].sum()\n",
    "real_estate['WoE'] = np.log(real_estate['% of Non-Events']/real_estate['% of Events'])\n",
    "real_estate['IV'] = real_estate['WoE'] * (real_estate['% of Non-Events'] - real_estate['% of Events'])\n",
    "real_estate.insert(loc=0, column='Variable', value=features[8])"
   ]
  },
  {
   "cell_type": "code",
   "execution_count": 432,
   "metadata": {},
   "outputs": [],
   "source": [
    "#weight of evidence for feature 9\n",
    "groups = pd.IntervalIndex.from_tuples([(-0.001, 0), (0, 1), (1, 2), (2, 4), (4, 6), (6, 9), (9, 12), (12, 96),(96, 99)])\n",
    "binned_x = pd.cut(df_train[features[9]], bins = groups, precision = 0, right = True)\n",
    "d0 = pd.DataFrame({'x': binned_x, 'y': df_train[features[0]]})\n",
    "past_due_90 = d0.groupby(\"x\", as_index=False).agg({\"y\": [\"count\", \"sum\"]})\n",
    "past_due_90.columns = ['Cutoff', 'N', 'Events']\n",
    "past_due_90['% of Events'] = np.maximum(past_due_90['Events'], 0.5) / past_due_90['Events'].sum()\n",
    "past_due_90['Non-Events'] = past_due_90['N'] - past_due_90['Events']\n",
    "past_due_90['% of Non-Events'] = np.maximum(past_due_90['Non-Events'], 0.5) / past_due_90['Non-Events'].sum()\n",
    "past_due_90['WoE'] = np.log(past_due_90['% of Non-Events']/past_due_90['% of Events'])\n",
    "past_due_90['IV'] = past_due_90['WoE'] * (past_due_90['% of Non-Events'] - past_due_90['% of Events'])\n",
    "past_due_90.insert(loc=0, column='Variable', value=features[9])"
   ]
  },
  {
   "cell_type": "code",
   "execution_count": 433,
   "metadata": {},
   "outputs": [],
   "source": [
    "#weight of evidence for feature 10\n",
    "cats = pd.IntervalIndex.from_tuples([(-0.001, 0), (0, 2), (2, 3), (3, 4), (4, 5), (5, 8), (8, 43)])\n",
    "binned_x = pd.cut(df_train[features[10]], bins = cats, precision = 0, right = True)\n",
    "d0 = pd.DataFrame({'x': binned_x, 'y': df_train[features[0]]})\n",
    "dep = d0.groupby(\"x\", as_index=False).agg({\"y\": [\"count\", \"sum\"]})\n",
    "dep.columns = ['Cutoff', 'N', 'Events']\n",
    "dep['% of Events'] = np.maximum(dep['Events'], 0.5) / dep['Events'].sum()\n",
    "dep['Non-Events'] = dep['N'] - dep['Events']\n",
    "dep['% of Non-Events'] = np.maximum(dep['Non-Events'], 0.5) / dep['Non-Events'].sum()\n",
    "dep['WoE'] = np.log(dep['% of Non-Events']/dep['% of Events'])\n",
    "dep['IV'] = dep['WoE'] * (dep['% of Non-Events'] - dep['% of Events'])\n",
    "dep.insert(loc=0, column='Variable', value=features[10])  "
   ]
  },
  {
   "cell_type": "code",
   "execution_count": 434,
   "metadata": {},
   "outputs": [],
   "source": [
    "var = features[1:]"
   ]
  },
  {
   "cell_type": "code",
   "execution_count": 441,
   "metadata": {},
   "outputs": [],
   "source": [
    "df_bins = pd.DataFrame()\n",
    "df_bins[var[0]] = woe_1['Cutoff']\n",
    "df_bins[var[1]] = woe_2['Cutoff']\n",
    "df_bins[var[2]] = past_due['Cutoff']\n",
    "df_bins[var[3]] = woe_4['Cutoff']\n",
    "df_bins[var[4]] = woe_5['Cutoff']\n",
    "df_bins[var[5]] = woe_6['Cutoff']\n",
    "df_bins[var[6]] = d['Cutoff']\n",
    "df_bins[var[7]] = real_estate['Cutoff']\n",
    "df_bins[var[8]] = past_due_90['Cutoff']\n",
    "df_bins[var[9]] = dep['Cutoff']\n",
    "df_bins[var[2]].fillna(df_bins[var[2]][8], inplace = True)\n",
    "df_bins[var[4]].fillna(df_bins[var[4]][8], inplace = True)\n",
    "df_bins[var[6]].fillna(df_bins[var[6]][6], inplace = True)\n",
    "df_bins[var[7]].fillna(df_bins[var[7]][7], inplace = True)\n",
    "df_bins[var[8]].fillna(df_bins[var[8]][8], inplace = True)\n",
    "df_bins[var[9]].fillna(df_bins[var[9]][6], inplace = True)"
   ]
  },
  {
   "cell_type": "code",
   "execution_count": 442,
   "metadata": {},
   "outputs": [],
   "source": [
    "df_woe = pd.DataFrame()\n",
    "df_woe[var[0]] = woe_1['WoE']\n",
    "df_woe[var[1]] = woe_2['WoE']\n",
    "df_woe[var[2]] = past_due['WoE']\n",
    "df_woe[var[3]] = woe_4['WoE']\n",
    "df_woe[var[4]] = woe_5['WoE']\n",
    "df_woe[var[5]] = woe_6['WoE']\n",
    "df_woe[var[6]] = d['WoE']\n",
    "df_woe[var[7]] = real_estate['WoE']\n",
    "df_woe[var[8]] = past_due_90['WoE']\n",
    "df_woe[var[9]] = dep['WoE']\n",
    "df_woe.iloc[:, 2].fillna(df_woe[var[2]][8], inplace = True)\n",
    "df_woe.iloc[:, 4].fillna(df_woe[var[4]][8], inplace = True)\n",
    "df_woe.iloc[:, 6].fillna(df_woe[var[6]][6], inplace = True)\n",
    "df_woe.iloc[:, 7].fillna(df_woe[var[7]][7], inplace = True)\n",
    "df_woe.iloc[:, 8].fillna(df_woe[var[8]][8], inplace = True)\n",
    "df_woe.iloc[:, 9].fillna(df_woe[var[9]][6], inplace = True)"
   ]
  },
  {
   "cell_type": "code",
   "execution_count": 403,
   "metadata": {},
   "outputs": [
    {
     "data": {
      "text/html": [
       "<div>\n",
       "<style scoped>\n",
       "    .dataframe tbody tr th:only-of-type {\n",
       "        vertical-align: middle;\n",
       "    }\n",
       "\n",
       "    .dataframe tbody tr th {\n",
       "        vertical-align: top;\n",
       "    }\n",
       "\n",
       "    .dataframe thead th {\n",
       "        text-align: right;\n",
       "    }\n",
       "</style>\n",
       "<table border=\"1\" class=\"dataframe\">\n",
       "  <thead>\n",
       "    <tr style=\"text-align: right;\">\n",
       "      <th></th>\n",
       "      <th>SeriousDlqin2yrs</th>\n",
       "      <th>RevolvingUtilizationOfUnsecuredLines</th>\n",
       "      <th>age</th>\n",
       "      <th>NumberOfTime30-59DaysPastDueNotWorse</th>\n",
       "      <th>DebtRatio</th>\n",
       "      <th>MonthlyIncome</th>\n",
       "      <th>NumberOfOpenCreditLinesAndLoans</th>\n",
       "      <th>NumberOfTimes90DaysLate</th>\n",
       "      <th>NumberRealEstateLoansOrLines</th>\n",
       "      <th>NumberOfTime60-89DaysPastDueNotWorse</th>\n",
       "      <th>NumberOfDependents</th>\n",
       "    </tr>\n",
       "  </thead>\n",
       "  <tbody>\n",
       "    <tr>\n",
       "      <th>0</th>\n",
       "      <td>1</td>\n",
       "      <td>0.766127</td>\n",
       "      <td>45</td>\n",
       "      <td>2</td>\n",
       "      <td>0.802982</td>\n",
       "      <td>9120.0</td>\n",
       "      <td>13</td>\n",
       "      <td>0</td>\n",
       "      <td>6</td>\n",
       "      <td>0</td>\n",
       "      <td>2.0</td>\n",
       "    </tr>\n",
       "    <tr>\n",
       "      <th>1</th>\n",
       "      <td>0</td>\n",
       "      <td>0.957151</td>\n",
       "      <td>40</td>\n",
       "      <td>0</td>\n",
       "      <td>0.121876</td>\n",
       "      <td>2600.0</td>\n",
       "      <td>4</td>\n",
       "      <td>0</td>\n",
       "      <td>0</td>\n",
       "      <td>0</td>\n",
       "      <td>1.0</td>\n",
       "    </tr>\n",
       "    <tr>\n",
       "      <th>2</th>\n",
       "      <td>0</td>\n",
       "      <td>0.658180</td>\n",
       "      <td>38</td>\n",
       "      <td>1</td>\n",
       "      <td>0.085113</td>\n",
       "      <td>3042.0</td>\n",
       "      <td>2</td>\n",
       "      <td>1</td>\n",
       "      <td>0</td>\n",
       "      <td>0</td>\n",
       "      <td>0.0</td>\n",
       "    </tr>\n",
       "    <tr>\n",
       "      <th>3</th>\n",
       "      <td>0</td>\n",
       "      <td>0.233810</td>\n",
       "      <td>30</td>\n",
       "      <td>0</td>\n",
       "      <td>0.036050</td>\n",
       "      <td>3300.0</td>\n",
       "      <td>5</td>\n",
       "      <td>0</td>\n",
       "      <td>0</td>\n",
       "      <td>0</td>\n",
       "      <td>0.0</td>\n",
       "    </tr>\n",
       "    <tr>\n",
       "      <th>4</th>\n",
       "      <td>0</td>\n",
       "      <td>0.907239</td>\n",
       "      <td>49</td>\n",
       "      <td>1</td>\n",
       "      <td>0.024926</td>\n",
       "      <td>63588.0</td>\n",
       "      <td>7</td>\n",
       "      <td>0</td>\n",
       "      <td>1</td>\n",
       "      <td>0</td>\n",
       "      <td>0.0</td>\n",
       "    </tr>\n",
       "  </tbody>\n",
       "</table>\n",
       "</div>"
      ],
      "text/plain": [
       "   SeriousDlqin2yrs  RevolvingUtilizationOfUnsecuredLines  age  \\\n",
       "0                 1                              0.766127   45   \n",
       "1                 0                              0.957151   40   \n",
       "2                 0                              0.658180   38   \n",
       "3                 0                              0.233810   30   \n",
       "4                 0                              0.907239   49   \n",
       "\n",
       "   NumberOfTime30-59DaysPastDueNotWorse  DebtRatio  MonthlyIncome  \\\n",
       "0                                     2   0.802982         9120.0   \n",
       "1                                     0   0.121876         2600.0   \n",
       "2                                     1   0.085113         3042.0   \n",
       "3                                     0   0.036050         3300.0   \n",
       "4                                     1   0.024926        63588.0   \n",
       "\n",
       "   NumberOfOpenCreditLinesAndLoans  NumberOfTimes90DaysLate  \\\n",
       "0                               13                        0   \n",
       "1                                4                        0   \n",
       "2                                2                        1   \n",
       "3                                5                        0   \n",
       "4                                7                        0   \n",
       "\n",
       "   NumberRealEstateLoansOrLines  NumberOfTime60-89DaysPastDueNotWorse  \\\n",
       "0                             6                                     0   \n",
       "1                             0                                     0   \n",
       "2                             0                                     0   \n",
       "3                             0                                     0   \n",
       "4                             1                                     0   \n",
       "\n",
       "   NumberOfDependents  \n",
       "0                 2.0  \n",
       "1                 1.0  \n",
       "2                 0.0  \n",
       "3                 0.0  \n",
       "4                 0.0  "
      ]
     },
     "execution_count": 403,
     "metadata": {},
     "output_type": "execute_result"
    }
   ],
   "source": [
    "df_train.head()"
   ]
  },
  {
   "cell_type": "code",
   "execution_count": 404,
   "metadata": {},
   "outputs": [],
   "source": [
    "from sklearn.linear_model import LogisticRegression\n",
    "clf = LogisticRegression(max_iter = 1000)"
   ]
  },
  {
   "cell_type": "code",
   "execution_count": 405,
   "metadata": {},
   "outputs": [
    {
     "data": {
      "text/plain": [
       "LogisticRegression(C=1.0, class_weight=None, dual=False, fit_intercept=True,\n",
       "                   intercept_scaling=1, l1_ratio=None, max_iter=1000,\n",
       "                   multi_class='auto', n_jobs=None, penalty='l2',\n",
       "                   random_state=None, solver='lbfgs', tol=0.0001, verbose=0,\n",
       "                   warm_start=False)"
      ]
     },
     "execution_count": 405,
     "metadata": {},
     "output_type": "execute_result"
    }
   ],
   "source": [
    "clf.fit(np.array(df_train.iloc[:, 1:]), np.array(df_train.iloc[:, 0]))"
   ]
  },
  {
   "cell_type": "code",
   "execution_count": 406,
   "metadata": {},
   "outputs": [],
   "source": [
    "coef = clf.coef_[0]"
   ]
  },
  {
   "cell_type": "code",
   "execution_count": 407,
   "metadata": {},
   "outputs": [],
   "source": [
    "intercept = clf.intercept_[0]"
   ]
  },
  {
   "cell_type": "code",
   "execution_count": 408,
   "metadata": {},
   "outputs": [
    {
     "name": "stdout",
     "output_type": "stream",
     "text": [
      "factor: 28.85 | offset 487.12\n"
     ]
    }
   ],
   "source": [
    "factor = 20/np.log(2)\n",
    "offset = 600 - factor * np.log(50)\n",
    "print('factor:', round(factor, 2),'| offset', round(offset, 2))"
   ]
  },
  {
   "cell_type": "code",
   "execution_count": 409,
   "metadata": {},
   "outputs": [],
   "source": [
    "def score(data, feature, position, groups, woe, coef, intercept, factor, offset):\n",
    "    weight = list()\n",
    "    x = data.columns.to_list()[1:].index(feature)\n",
    "    for bins in groups[feature]:\n",
    "        if data[feature][position] not in bins:\n",
    "            continue\n",
    "        else:\n",
    "            pos = groups[feature].to_list().index(bins)\n",
    "            weight.append(woe[feature][pos])\n",
    "    score = (coef[x] * weight[0] + intercept/len(coef)) * factor + offset/len(coef)\n",
    "    return score"
   ]
  },
  {
   "cell_type": "code",
   "execution_count": 410,
   "metadata": {},
   "outputs": [
    {
     "data": {
      "text/plain": [
       "47.01115929410097"
      ]
     },
     "execution_count": 410,
     "metadata": {},
     "output_type": "execute_result"
    }
   ],
   "source": [
    "score(df_test, var[0], 0, df_bins, df_woe, coef, intercept, factor, offset)"
   ]
  },
  {
   "cell_type": "code",
   "execution_count": 447,
   "metadata": {},
   "outputs": [],
   "source": [
    "lst = list()\n",
    "for feature in var:\n",
    "    lst.append(score(df_test, feature, 0, df_bins, df_woe, coef, intercept, factor, offset))"
   ]
  },
  {
   "cell_type": "code",
   "execution_count": null,
   "metadata": {},
   "outputs": [],
   "source": []
  },
  {
   "cell_type": "code",
   "execution_count": null,
   "metadata": {},
   "outputs": [],
   "source": []
  },
  {
   "cell_type": "code",
   "execution_count": null,
   "metadata": {},
   "outputs": [],
   "source": []
  },
  {
   "cell_type": "code",
   "execution_count": null,
   "metadata": {},
   "outputs": [],
   "source": []
  },
  {
   "cell_type": "code",
   "execution_count": null,
   "metadata": {},
   "outputs": [],
   "source": []
  },
  {
   "cell_type": "code",
   "execution_count": null,
   "metadata": {},
   "outputs": [],
   "source": []
  }
 ],
 "metadata": {
  "kernelspec": {
   "display_name": "Python 3",
   "language": "python",
   "name": "python3"
  },
  "language_info": {
   "codemirror_mode": {
    "name": "ipython",
    "version": 3
   },
   "file_extension": ".py",
   "mimetype": "text/x-python",
   "name": "python",
   "nbconvert_exporter": "python",
   "pygments_lexer": "ipython3",
   "version": "3.7.6"
  }
 },
 "nbformat": 4,
 "nbformat_minor": 4
}
